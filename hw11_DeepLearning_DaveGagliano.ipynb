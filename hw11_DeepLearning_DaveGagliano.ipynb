{
 "cells": [
  {
   "cell_type": "markdown",
   "id": "cd7ff9a4",
   "metadata": {},
   "source": [
    "Dave Gagliano\n",
    "\n",
    "CIS 2532 NET01\n",
    "\n",
    "Professor Shamsuddin\n",
    "\n",
    "06 May 2022"
   ]
  },
  {
   "cell_type": "markdown",
   "id": "3e1d1b4b",
   "metadata": {},
   "source": [
    "<hr>\n",
    "These programs are excercises in deep learning\n",
    "\n",
    "from: <code>https://medium.com/intuitive-deep-learning/build-your-first-convolutional-neural-network-to-recognize-images-84b9c78fe0ce</code>\n",
    "<hr>"
   ]
  },
  {
   "cell_type": "markdown",
   "id": "a6564770",
   "metadata": {},
   "source": [
    "<h2>Build Your First Neural Network to Predict House Prices with Keras</h2>\n",
    "\n",
    "from: <code>https://medium.com/intuitive-deep-learning/build-your-first-neural-network-to-predict-house-prices-with-keras-eb5db60232c</code>\n",
    "\n",
    "sections and images in this program taken from this article "
   ]
  },
  {
   "cell_type": "code",
   "execution_count": 1,
   "id": "79e30e94",
   "metadata": {},
   "outputs": [],
   "source": [
    "import pandas as pd"
   ]
  },
  {
   "cell_type": "code",
   "execution_count": 2,
   "id": "329a0bf7",
   "metadata": {},
   "outputs": [],
   "source": [
    "# file downloaded from zillow\n",
    "# https://drive.google.com/file/d/1GfvKA0qznNVknghV4botnNxyH-KvODOC/view\n",
    "# read csv file and create pandas dataframe\n",
    "filename = 'housepricedata.csv'\n",
    "df = pd.read_csv(filename)"
   ]
  },
  {
   "cell_type": "code",
   "execution_count": 3,
   "id": "1403b6f0",
   "metadata": {},
   "outputs": [
    {
     "data": {
      "text/html": [
       "<div>\n",
       "<style scoped>\n",
       "    .dataframe tbody tr th:only-of-type {\n",
       "        vertical-align: middle;\n",
       "    }\n",
       "\n",
       "    .dataframe tbody tr th {\n",
       "        vertical-align: top;\n",
       "    }\n",
       "\n",
       "    .dataframe thead th {\n",
       "        text-align: right;\n",
       "    }\n",
       "</style>\n",
       "<table border=\"1\" class=\"dataframe\">\n",
       "  <thead>\n",
       "    <tr style=\"text-align: right;\">\n",
       "      <th></th>\n",
       "      <th>LotArea</th>\n",
       "      <th>OverallQual</th>\n",
       "      <th>OverallCond</th>\n",
       "      <th>TotalBsmtSF</th>\n",
       "      <th>FullBath</th>\n",
       "      <th>HalfBath</th>\n",
       "      <th>BedroomAbvGr</th>\n",
       "      <th>TotRmsAbvGrd</th>\n",
       "      <th>Fireplaces</th>\n",
       "      <th>GarageArea</th>\n",
       "      <th>AboveMedianPrice</th>\n",
       "    </tr>\n",
       "  </thead>\n",
       "  <tbody>\n",
       "    <tr>\n",
       "      <th>0</th>\n",
       "      <td>8450</td>\n",
       "      <td>7</td>\n",
       "      <td>5</td>\n",
       "      <td>856</td>\n",
       "      <td>2</td>\n",
       "      <td>1</td>\n",
       "      <td>3</td>\n",
       "      <td>8</td>\n",
       "      <td>0</td>\n",
       "      <td>548</td>\n",
       "      <td>1</td>\n",
       "    </tr>\n",
       "    <tr>\n",
       "      <th>1</th>\n",
       "      <td>9600</td>\n",
       "      <td>6</td>\n",
       "      <td>8</td>\n",
       "      <td>1262</td>\n",
       "      <td>2</td>\n",
       "      <td>0</td>\n",
       "      <td>3</td>\n",
       "      <td>6</td>\n",
       "      <td>1</td>\n",
       "      <td>460</td>\n",
       "      <td>1</td>\n",
       "    </tr>\n",
       "    <tr>\n",
       "      <th>2</th>\n",
       "      <td>11250</td>\n",
       "      <td>7</td>\n",
       "      <td>5</td>\n",
       "      <td>920</td>\n",
       "      <td>2</td>\n",
       "      <td>1</td>\n",
       "      <td>3</td>\n",
       "      <td>6</td>\n",
       "      <td>1</td>\n",
       "      <td>608</td>\n",
       "      <td>1</td>\n",
       "    </tr>\n",
       "    <tr>\n",
       "      <th>3</th>\n",
       "      <td>9550</td>\n",
       "      <td>7</td>\n",
       "      <td>5</td>\n",
       "      <td>756</td>\n",
       "      <td>1</td>\n",
       "      <td>0</td>\n",
       "      <td>3</td>\n",
       "      <td>7</td>\n",
       "      <td>1</td>\n",
       "      <td>642</td>\n",
       "      <td>0</td>\n",
       "    </tr>\n",
       "    <tr>\n",
       "      <th>4</th>\n",
       "      <td>14260</td>\n",
       "      <td>8</td>\n",
       "      <td>5</td>\n",
       "      <td>1145</td>\n",
       "      <td>2</td>\n",
       "      <td>1</td>\n",
       "      <td>4</td>\n",
       "      <td>9</td>\n",
       "      <td>1</td>\n",
       "      <td>836</td>\n",
       "      <td>1</td>\n",
       "    </tr>\n",
       "    <tr>\n",
       "      <th>...</th>\n",
       "      <td>...</td>\n",
       "      <td>...</td>\n",
       "      <td>...</td>\n",
       "      <td>...</td>\n",
       "      <td>...</td>\n",
       "      <td>...</td>\n",
       "      <td>...</td>\n",
       "      <td>...</td>\n",
       "      <td>...</td>\n",
       "      <td>...</td>\n",
       "      <td>...</td>\n",
       "    </tr>\n",
       "    <tr>\n",
       "      <th>1455</th>\n",
       "      <td>7917</td>\n",
       "      <td>6</td>\n",
       "      <td>5</td>\n",
       "      <td>953</td>\n",
       "      <td>2</td>\n",
       "      <td>1</td>\n",
       "      <td>3</td>\n",
       "      <td>7</td>\n",
       "      <td>1</td>\n",
       "      <td>460</td>\n",
       "      <td>1</td>\n",
       "    </tr>\n",
       "    <tr>\n",
       "      <th>1456</th>\n",
       "      <td>13175</td>\n",
       "      <td>6</td>\n",
       "      <td>6</td>\n",
       "      <td>1542</td>\n",
       "      <td>2</td>\n",
       "      <td>0</td>\n",
       "      <td>3</td>\n",
       "      <td>7</td>\n",
       "      <td>2</td>\n",
       "      <td>500</td>\n",
       "      <td>1</td>\n",
       "    </tr>\n",
       "    <tr>\n",
       "      <th>1457</th>\n",
       "      <td>9042</td>\n",
       "      <td>7</td>\n",
       "      <td>9</td>\n",
       "      <td>1152</td>\n",
       "      <td>2</td>\n",
       "      <td>0</td>\n",
       "      <td>4</td>\n",
       "      <td>9</td>\n",
       "      <td>2</td>\n",
       "      <td>252</td>\n",
       "      <td>1</td>\n",
       "    </tr>\n",
       "    <tr>\n",
       "      <th>1458</th>\n",
       "      <td>9717</td>\n",
       "      <td>5</td>\n",
       "      <td>6</td>\n",
       "      <td>1078</td>\n",
       "      <td>1</td>\n",
       "      <td>0</td>\n",
       "      <td>2</td>\n",
       "      <td>5</td>\n",
       "      <td>0</td>\n",
       "      <td>240</td>\n",
       "      <td>0</td>\n",
       "    </tr>\n",
       "    <tr>\n",
       "      <th>1459</th>\n",
       "      <td>9937</td>\n",
       "      <td>5</td>\n",
       "      <td>6</td>\n",
       "      <td>1256</td>\n",
       "      <td>1</td>\n",
       "      <td>1</td>\n",
       "      <td>3</td>\n",
       "      <td>6</td>\n",
       "      <td>0</td>\n",
       "      <td>276</td>\n",
       "      <td>0</td>\n",
       "    </tr>\n",
       "  </tbody>\n",
       "</table>\n",
       "<p>1460 rows × 11 columns</p>\n",
       "</div>"
      ],
      "text/plain": [
       "      LotArea  OverallQual  OverallCond  TotalBsmtSF  FullBath  HalfBath  \\\n",
       "0        8450            7            5          856         2         1   \n",
       "1        9600            6            8         1262         2         0   \n",
       "2       11250            7            5          920         2         1   \n",
       "3        9550            7            5          756         1         0   \n",
       "4       14260            8            5         1145         2         1   \n",
       "...       ...          ...          ...          ...       ...       ...   \n",
       "1455     7917            6            5          953         2         1   \n",
       "1456    13175            6            6         1542         2         0   \n",
       "1457     9042            7            9         1152         2         0   \n",
       "1458     9717            5            6         1078         1         0   \n",
       "1459     9937            5            6         1256         1         1   \n",
       "\n",
       "      BedroomAbvGr  TotRmsAbvGrd  Fireplaces  GarageArea  AboveMedianPrice  \n",
       "0                3             8           0         548                 1  \n",
       "1                3             6           1         460                 1  \n",
       "2                3             6           1         608                 1  \n",
       "3                3             7           1         642                 0  \n",
       "4                4             9           1         836                 1  \n",
       "...            ...           ...         ...         ...               ...  \n",
       "1455             3             7           1         460                 1  \n",
       "1456             3             7           2         500                 1  \n",
       "1457             4             9           2         252                 1  \n",
       "1458             2             5           0         240                 0  \n",
       "1459             3             6           0         276                 0  \n",
       "\n",
       "[1460 rows x 11 columns]"
      ]
     },
     "execution_count": 3,
     "metadata": {},
     "output_type": "execute_result"
    }
   ],
   "source": [
    "# view dataframe\n",
    "df"
   ]
  },
  {
   "cell_type": "code",
   "execution_count": 4,
   "id": "f10d1894",
   "metadata": {},
   "outputs": [],
   "source": [
    "# convert data to arrays for machine to process\n",
    "dataset = df.values"
   ]
  },
  {
   "cell_type": "code",
   "execution_count": 5,
   "id": "eface119",
   "metadata": {},
   "outputs": [
    {
     "data": {
      "text/plain": [
       "array([[ 8450,     7,     5, ...,     0,   548,     1],\n",
       "       [ 9600,     6,     8, ...,     1,   460,     1],\n",
       "       [11250,     7,     5, ...,     1,   608,     1],\n",
       "       ...,\n",
       "       [ 9042,     7,     9, ...,     2,   252,     1],\n",
       "       [ 9717,     5,     6, ...,     0,   240,     0],\n",
       "       [ 9937,     5,     6, ...,     0,   276,     0]], dtype=int64)"
      ]
     },
     "execution_count": 5,
     "metadata": {},
     "output_type": "execute_result"
    }
   ],
   "source": [
    "# view dataset\n",
    "dataset"
   ]
  },
  {
   "cell_type": "code",
   "execution_count": 6,
   "id": "6f8b6b68",
   "metadata": {},
   "outputs": [],
   "source": [
    "# load all rows and columns 0-9 into X\n",
    "# load all rows and column 10 into Y\n",
    "X = dataset[:, 0:10]\n",
    "Y = dataset[:, 10]"
   ]
  },
  {
   "cell_type": "code",
   "execution_count": 7,
   "id": "c741d597",
   "metadata": {},
   "outputs": [],
   "source": [
    "# scale data for initiallization of neural network\n",
    "from sklearn import preprocessing"
   ]
  },
  {
   "cell_type": "code",
   "execution_count": 8,
   "id": "042627f2",
   "metadata": {},
   "outputs": [],
   "source": [
    "# min_max scaler scales dataset so that all the input features lie between 0 and 1, inclusive\n",
    "min_max_scaler = preprocessing.MinMaxScaler()\n",
    "X_scale = min_max_scaler.fit_transform(X)"
   ]
  },
  {
   "cell_type": "code",
   "execution_count": 9,
   "id": "02cac864",
   "metadata": {},
   "outputs": [
    {
     "data": {
      "text/plain": [
       "array([[0.0334198 , 0.66666667, 0.5       , ..., 0.5       , 0.        ,\n",
       "        0.3864598 ],\n",
       "       [0.03879502, 0.55555556, 0.875     , ..., 0.33333333, 0.33333333,\n",
       "        0.32440056],\n",
       "       [0.04650728, 0.66666667, 0.5       , ..., 0.33333333, 0.33333333,\n",
       "        0.42877292],\n",
       "       ...,\n",
       "       [0.03618687, 0.66666667, 1.        , ..., 0.58333333, 0.66666667,\n",
       "        0.17771509],\n",
       "       [0.03934189, 0.44444444, 0.625     , ..., 0.25      , 0.        ,\n",
       "        0.16925247],\n",
       "       [0.04037019, 0.44444444, 0.625     , ..., 0.33333333, 0.        ,\n",
       "        0.19464034]])"
      ]
     },
     "execution_count": 9,
     "metadata": {},
     "output_type": "execute_result"
    }
   ],
   "source": [
    "# view scaled data in X_scale\n",
    "X_scale"
   ]
  },
  {
   "cell_type": "code",
   "execution_count": 10,
   "id": "cd9eed4b",
   "metadata": {},
   "outputs": [],
   "source": [
    "# split dataset into a training set and a test set\n",
    "from sklearn.model_selection import train_test_split"
   ]
  },
  {
   "cell_type": "code",
   "execution_count": 11,
   "id": "f260b831",
   "metadata": {},
   "outputs": [],
   "source": [
    "# split dataset\n",
    "# val_and_test size will be 30% of the overall dataset\n",
    "X_train, X_val_and_test, Y_train, Y_val_and_test = train_test_split(X_scale, Y, test_size=0.3)"
   ]
  },
  {
   "cell_type": "code",
   "execution_count": 12,
   "id": "dccb2211",
   "metadata": {},
   "outputs": [],
   "source": [
    "# create a seperate validation set and test set by splitting val_and_set\n",
    "# split the val_and_test size evenly to validation and test sets\n",
    "X_val, X_test, Y_val, Y_test = train_test_split(X_val_and_test, Y_val_and_test, test_size=0.5)"
   ]
  },
  {
   "cell_type": "markdown",
   "id": "9b44e7a4",
   "metadata": {},
   "source": [
    "<code>6 valiables for the dataset:   \n",
    "    X_train (10 input features, 70% of full dataset)\n",
    "    X_val (10 input features, 15% of full dataset)\n",
    "    X_test (10 input features, 15% of full dataset)\n",
    "    Y_train (1 label, 70% of full dataset)\n",
    "    Y_val (1 label, 15% of full dataset)\n",
    "    Y_test (1 label, 15% of full dataset)</code>"
   ]
  },
  {
   "cell_type": "code",
   "execution_count": 13,
   "id": "133e49da",
   "metadata": {},
   "outputs": [
    {
     "name": "stdout",
     "output_type": "stream",
     "text": [
      "(1022, 10) (219, 10) (219, 10) (1022,) (219,) (219,)\n"
     ]
    }
   ],
   "source": [
    "# view the shapes of the arrays \n",
    "print(X_train.shape, X_val.shape, X_test.shape, Y_train.shape, Y_val.shape, Y_test.shape)"
   ]
  },
  {
   "cell_type": "markdown",
   "id": "efc6f368",
   "metadata": {},
   "source": [
    "<strong>data is finally ready!</strong>\n",
    "\n",
    "<code>Summary: In processing the data, we’ve:\n",
    "    Read in the CSV (comma separated values) file and convert them to arrays.\n",
    "    Split our dataset into the input features and the label.\n",
    "    Scale the data so that the input features have similar orders of magnitude.\n",
    "    Split our dataset into the training set, the validation set and the test set.</code>"
   ]
  },
  {
   "cell_type": "markdown",
   "id": "95894b8b",
   "metadata": {},
   "source": [
    "<hr>\n",
    "<code>Building and Training our First Neural Network\n",
    "In Intuitive Deep Learning Part 1a, we said that Machine Learning consists of two steps. The first step is to specify  a template (an architecture) and the second step is to find the best numbers from the data to fill in that template.   Our code from here on will also follow these two steps.</code>\n",
    "\n",
    "<strong><code>First Step: Setting up the Architecture</code></strong>\n",
    "\n",
    "<code>The first thing we have to do is to set up the architecture. Let’s first think about what kind of neural network architecture we want. Suppose we want this neural network:</code>"
   ]
  },
  {
   "attachments": {
    "1%20n-SIfloaWQxvQ5XMgnKmRA.png": {
     "image/png": "[encoded data removed]"
    }
   },
   "cell_type": "markdown",
   "id": "a18bcbd6",
   "metadata": {},
   "source": [
    "![1%20n-SIfloaWQxvQ5XMgnKmRA.png](attachment:1%20n-SIfloaWQxvQ5XMgnKmRA.png)"
   ]
  },
  {
   "cell_type": "markdown",
   "id": "27df4c37",
   "metadata": {},
   "source": [
    "<code>In words, we want to have these layers:</code>\n",
    "* Hidden layer 1: 32 neurons, ReLU activation\n",
    "* Hidden layer 2: 32 neurons, ReLU activation\n",
    "* Output Layer: 1 neuron, Sigmoid activation</code>\n",
    "\n",
    "<code>\n",
    "Now, we need to describe this architecture to Keras. We will be using the Sequential model, which means that we merely need to describe the layers above in sequence.</code>"
   ]
  },
  {
   "cell_type": "code",
   "execution_count": 15,
   "id": "38e03456",
   "metadata": {},
   "outputs": [],
   "source": [
    "# import Keras\n",
    "from keras.models import Sequential\n",
    "from keras.layers import Dense"
   ]
  },
  {
   "cell_type": "code",
   "execution_count": 16,
   "id": "f26483ad",
   "metadata": {},
   "outputs": [],
   "source": [
    "model = Sequential([\n",
    "    Dense(32, activation='relu', input_shape=(10,)),\n",
    "    Dense(32, activation='relu'),\n",
    "    Dense(1, activation='sigmoid'),\n",
    "])"
   ]
  },
  {
   "cell_type": "markdown",
   "id": "b9f5bc7c",
   "metadata": {},
   "source": [
    "<code>The code above can be interpreted like this:\n",
    "</code>\n",
    "\n",
    "<code>model = Sequential([ ... ])\n",
    "This says that we will store our model in the variable ‘model’, and we’ll describe it sequentially (layer by layer) in between the square brackets.</code>\n",
    "\n",
    "<code>\n",
    "Dense(32, activation='relu', input_shape=(10,)),\n",
    "We have our first layer as a dense layer with 32 neurons, ReLU activation and the input shape is 10 since we have 10 input features. Note that ‘Dense’ refers to a fully-connected layer, which is what we will be using.\n",
    "</code>\n",
    "<code>\n",
    "Dense(32, activation='relu'),\n",
    "Our second layer is also a dense layer with 32 neurons, ReLU activation. Note that we do not have to describe the input shape since Keras can infer from the output of our first layer.\n",
    "</code>\n",
    "\n",
    "<code>\n",
    "Dense(1, activation='sigmoid'),\n",
    "Our third layer is a dense layer with 1 neuron, sigmoid activation.</code>\n",
    "\n",
    "<code>And just like that, we have written our model architecture (template) in code!</code>"
   ]
  },
  {
   "cell_type": "markdown",
   "id": "16fd83a1",
   "metadata": {},
   "source": [
    "<strong>Second Step: Filling in the Best Numbers</strong>"
   ]
  },
  {
   "cell_type": "markdown",
   "id": "f0a2d234",
   "metadata": {},
   "source": [
    "<code>Now that we’ve got our architecture specified, we need to find the best numbers for it. Before we start our training, we have to configure the model by</code>\n",
    "* Telling it which algorithm you want to use to do the optimization\n",
    "* Telling it what loss function to use\n",
    "* Telling it what other metrics you want to track apart from the loss function\n",
    "\n",
    "<code>Configuring the model with these settings requires us to call the function model.compile, like this:</code>"
   ]
  },
  {
   "cell_type": "code",
   "execution_count": 17,
   "id": "9a44eab8",
   "metadata": {},
   "outputs": [
    {
     "name": "stdout",
     "output_type": "stream",
     "text": [
      "WARNING:tensorflow:From C:\\Users\\dave\\Anaconda3\\lib\\site-packages\\tensorflow\\python\\ops\\nn_impl.py:180: add_dispatch_support.<locals>.wrapper (from tensorflow.python.ops.array_ops) is deprecated and will be removed in a future version.\n",
      "Instructions for updating:\n",
      "Use tf.where in 2.0, which has the same broadcast rule as np.where\n"
     ]
    }
   ],
   "source": [
    "model.compile(optimizer='sgd',\n",
    "              loss='binary_crossentropy',\n",
    "              metrics=['accuracy'])"
   ]
  },
  {
   "cell_type": "markdown",
   "id": "1c00391c",
   "metadata": {},
   "source": [
    "<code>We put the following settings inside the brackets after model.compile:\n",
    "optimizer='sgd'\n",
    "‘sgd’ refers to stochastic gradient descent (over here, it refers to mini-batch gradient descent), which we’ve seen in Intuitive Deep Learning Part 1b.\n",
    "loss='binary_crossentropy'\n",
    "The loss function for outputs that take the values 1 or 0 is called binary cross entropy.\n",
    "metrics=['accuracy']</code>"
   ]
  },
  {
   "cell_type": "code",
   "execution_count": 18,
   "id": "f14e951d",
   "metadata": {},
   "outputs": [
    {
     "name": "stdout",
     "output_type": "stream",
     "text": [
      "WARNING:tensorflow:From C:\\Users\\dave\\Anaconda3\\lib\\site-packages\\keras\\backend\\tensorflow_backend.py:422: The name tf.global_variables is deprecated. Please use tf.compat.v1.global_variables instead.\n",
      "\n",
      "Train on 1022 samples, validate on 219 samples\n",
      "Epoch 1/100\n",
      "1022/1022 [==============================] - 0s 130us/step - loss: 0.6635 - accuracy: 0.7417 - val_loss: 0.6582 - val_accuracy: 0.7580\n",
      "Epoch 2/100\n",
      "1022/1022 [==============================] - 0s 28us/step - loss: 0.6549 - accuracy: 0.7446 - val_loss: 0.6492 - val_accuracy: 0.7717\n",
      "Epoch 3/100\n",
      "1022/1022 [==============================] - 0s 28us/step - loss: 0.6463 - accuracy: 0.7681 - val_loss: 0.6398 - val_accuracy: 0.7991\n",
      "Epoch 4/100\n",
      "1022/1022 [==============================] - 0s 28us/step - loss: 0.6374 - accuracy: 0.7759 - val_loss: 0.6298 - val_accuracy: 0.8082\n",
      "Epoch 5/100\n",
      "1022/1022 [==============================] - 0s 26us/step - loss: 0.6285 - accuracy: 0.7984 - val_loss: 0.6203 - val_accuracy: 0.8265\n",
      "Epoch 6/100\n",
      "1022/1022 [==============================] - 0s 25us/step - loss: 0.6199 - accuracy: 0.8092 - val_loss: 0.6107 - val_accuracy: 0.8311\n",
      "Epoch 7/100\n",
      "1022/1022 [==============================] - 0s 25us/step - loss: 0.6114 - accuracy: 0.8151 - val_loss: 0.6009 - val_accuracy: 0.8493\n",
      "Epoch 8/100\n",
      "1022/1022 [==============================] - 0s 27us/step - loss: 0.6028 - accuracy: 0.8190 - val_loss: 0.5913 - val_accuracy: 0.8630\n",
      "Epoch 9/100\n",
      "1022/1022 [==============================] - 0s 26us/step - loss: 0.5942 - accuracy: 0.8278 - val_loss: 0.5814 - val_accuracy: 0.8584\n",
      "Epoch 10/100\n",
      "1022/1022 [==============================] - 0s 26us/step - loss: 0.5858 - accuracy: 0.8200 - val_loss: 0.5718 - val_accuracy: 0.8676\n",
      "Epoch 11/100\n",
      "1022/1022 [==============================] - 0s 26us/step - loss: 0.5775 - accuracy: 0.8307 - val_loss: 0.5621 - val_accuracy: 0.8721\n",
      "Epoch 12/100\n",
      "1022/1022 [==============================] - 0s 28us/step - loss: 0.5689 - accuracy: 0.8288 - val_loss: 0.5525 - val_accuracy: 0.8813\n",
      "Epoch 13/100\n",
      "1022/1022 [==============================] - 0s 25us/step - loss: 0.5603 - accuracy: 0.8317 - val_loss: 0.5428 - val_accuracy: 0.8813\n",
      "Epoch 14/100\n",
      "1022/1022 [==============================] - 0s 25us/step - loss: 0.5516 - accuracy: 0.8366 - val_loss: 0.5321 - val_accuracy: 0.8767\n",
      "Epoch 15/100\n",
      "1022/1022 [==============================] - 0s 26us/step - loss: 0.5429 - accuracy: 0.8366 - val_loss: 0.5218 - val_accuracy: 0.8813\n",
      "Epoch 16/100\n",
      "1022/1022 [==============================] - 0s 25us/step - loss: 0.5339 - accuracy: 0.8444 - val_loss: 0.5114 - val_accuracy: 0.8813\n",
      "Epoch 17/100\n",
      "1022/1022 [==============================] - 0s 25us/step - loss: 0.5252 - accuracy: 0.8366 - val_loss: 0.5011 - val_accuracy: 0.8813\n",
      "Epoch 18/100\n",
      "1022/1022 [==============================] - 0s 24us/step - loss: 0.5162 - accuracy: 0.8405 - val_loss: 0.4908 - val_accuracy: 0.8813\n",
      "Epoch 19/100\n",
      "1022/1022 [==============================] - 0s 26us/step - loss: 0.5074 - accuracy: 0.8523 - val_loss: 0.4804 - val_accuracy: 0.8813\n",
      "Epoch 20/100\n",
      "1022/1022 [==============================] - 0s 26us/step - loss: 0.4988 - accuracy: 0.8474 - val_loss: 0.4702 - val_accuracy: 0.8858\n",
      "Epoch 21/100\n",
      "1022/1022 [==============================] - 0s 26us/step - loss: 0.4902 - accuracy: 0.8571 - val_loss: 0.4601 - val_accuracy: 0.8858\n",
      "Epoch 22/100\n",
      "1022/1022 [==============================] - 0s 25us/step - loss: 0.4817 - accuracy: 0.8513 - val_loss: 0.4502 - val_accuracy: 0.8904\n",
      "Epoch 23/100\n",
      "1022/1022 [==============================] - 0s 31us/step - loss: 0.4736 - accuracy: 0.8532 - val_loss: 0.4406 - val_accuracy: 0.8950\n",
      "Epoch 24/100\n",
      "1022/1022 [==============================] - 0s 28us/step - loss: 0.4653 - accuracy: 0.8532 - val_loss: 0.4315 - val_accuracy: 0.8904\n",
      "Epoch 25/100\n",
      "1022/1022 [==============================] - 0s 29us/step - loss: 0.4576 - accuracy: 0.8581 - val_loss: 0.4225 - val_accuracy: 0.8904\n",
      "Epoch 26/100\n",
      "1022/1022 [==============================] - 0s 31us/step - loss: 0.4501 - accuracy: 0.8532 - val_loss: 0.4127 - val_accuracy: 0.8950\n",
      "Epoch 27/100\n",
      "1022/1022 [==============================] - 0s 32us/step - loss: 0.4428 - accuracy: 0.8601 - val_loss: 0.4041 - val_accuracy: 0.8950\n",
      "Epoch 28/100\n",
      "1022/1022 [==============================] - 0s 33us/step - loss: 0.4358 - accuracy: 0.8571 - val_loss: 0.3961 - val_accuracy: 0.8995\n",
      "Epoch 29/100\n",
      "1022/1022 [==============================] - 0s 29us/step - loss: 0.4288 - accuracy: 0.8571 - val_loss: 0.3881 - val_accuracy: 0.8995\n",
      "Epoch 30/100\n",
      "1022/1022 [==============================] - 0s 33us/step - loss: 0.4223 - accuracy: 0.8562 - val_loss: 0.3803 - val_accuracy: 0.9041\n",
      "Epoch 31/100\n",
      "1022/1022 [==============================] - ETA: 0s - loss: 0.3117 - accuracy: 0.96 - 0s 28us/step - loss: 0.4163 - accuracy: 0.8630 - val_loss: 0.3723 - val_accuracy: 0.8995\n",
      "Epoch 32/100\n",
      "1022/1022 [==============================] - 0s 26us/step - loss: 0.4105 - accuracy: 0.8611 - val_loss: 0.3651 - val_accuracy: 0.8995\n",
      "Epoch 33/100\n",
      "1022/1022 [==============================] - 0s 29us/step - loss: 0.4050 - accuracy: 0.8591 - val_loss: 0.3585 - val_accuracy: 0.9087\n",
      "Epoch 34/100\n",
      "1022/1022 [==============================] - 0s 25us/step - loss: 0.4002 - accuracy: 0.8571 - val_loss: 0.3514 - val_accuracy: 0.8995\n",
      "Epoch 35/100\n",
      "1022/1022 [==============================] - ETA: 0s - loss: 0.3722 - accuracy: 0.87 - 0s 26us/step - loss: 0.3948 - accuracy: 0.8611 - val_loss: 0.3456 - val_accuracy: 0.9087\n",
      "Epoch 36/100\n",
      "1022/1022 [==============================] - 0s 24us/step - loss: 0.3903 - accuracy: 0.8650 - val_loss: 0.3399 - val_accuracy: 0.9087\n",
      "Epoch 37/100\n",
      "1022/1022 [==============================] - 0s 29us/step - loss: 0.3859 - accuracy: 0.8601 - val_loss: 0.3343 - val_accuracy: 0.9087\n",
      "Epoch 38/100\n",
      "1022/1022 [==============================] - 0s 27us/step - loss: 0.3816 - accuracy: 0.8620 - val_loss: 0.3294 - val_accuracy: 0.9087\n",
      "Epoch 39/100\n",
      "1022/1022 [==============================] - 0s 24us/step - loss: 0.3778 - accuracy: 0.8620 - val_loss: 0.3239 - val_accuracy: 0.9087\n",
      "Epoch 40/100\n",
      "1022/1022 [==============================] - 0s 23us/step - loss: 0.3739 - accuracy: 0.8659 - val_loss: 0.3202 - val_accuracy: 0.9041\n",
      "Epoch 41/100\n",
      "1022/1022 [==============================] - 0s 21us/step - loss: 0.3700 - accuracy: 0.8620 - val_loss: 0.3140 - val_accuracy: 0.9087\n",
      "Epoch 42/100\n",
      "1022/1022 [==============================] - 0s 25us/step - loss: 0.3673 - accuracy: 0.8611 - val_loss: 0.3106 - val_accuracy: 0.9087\n",
      "Epoch 43/100\n",
      "1022/1022 [==============================] - 0s 22us/step - loss: 0.3639 - accuracy: 0.8630 - val_loss: 0.3061 - val_accuracy: 0.9087\n",
      "Epoch 44/100\n",
      "1022/1022 [==============================] - 0s 24us/step - loss: 0.3609 - accuracy: 0.8620 - val_loss: 0.3022 - val_accuracy: 0.9087\n",
      "Epoch 45/100\n",
      "1022/1022 [==============================] - 0s 23us/step - loss: 0.3585 - accuracy: 0.8581 - val_loss: 0.2978 - val_accuracy: 0.9087\n",
      "Epoch 46/100\n",
      "1022/1022 [==============================] - 0s 23us/step - loss: 0.3558 - accuracy: 0.8659 - val_loss: 0.2963 - val_accuracy: 0.9087\n",
      "Epoch 47/100\n",
      "1022/1022 [==============================] - 0s 24us/step - loss: 0.3535 - accuracy: 0.8630 - val_loss: 0.2927 - val_accuracy: 0.9087\n",
      "Epoch 48/100\n",
      "1022/1022 [==============================] - 0s 23us/step - loss: 0.3509 - accuracy: 0.8630 - val_loss: 0.2907 - val_accuracy: 0.9132\n",
      "Epoch 49/100\n",
      "1022/1022 [==============================] - ETA: 0s - loss: 0.5305 - accuracy: 0.75 - 0s 25us/step - loss: 0.3492 - accuracy: 0.8620 - val_loss: 0.2857 - val_accuracy: 0.9087\n",
      "Epoch 50/100\n",
      "1022/1022 [==============================] - 0s 23us/step - loss: 0.3473 - accuracy: 0.8611 - val_loss: 0.2827 - val_accuracy: 0.9087\n",
      "Epoch 51/100\n",
      "1022/1022 [==============================] - 0s 25us/step - loss: 0.3450 - accuracy: 0.8620 - val_loss: 0.2797 - val_accuracy: 0.9087\n",
      "Epoch 52/100\n",
      "1022/1022 [==============================] - 0s 24us/step - loss: 0.3431 - accuracy: 0.8650 - val_loss: 0.2769 - val_accuracy: 0.9087\n",
      "Epoch 53/100\n",
      "1022/1022 [==============================] - 0s 23us/step - loss: 0.3409 - accuracy: 0.8640 - val_loss: 0.2742 - val_accuracy: 0.9087\n",
      "Epoch 54/100\n"
     ]
    },
    {
     "name": "stdout",
     "output_type": "stream",
     "text": [
      "1022/1022 [==============================] - 0s 23us/step - loss: 0.3394 - accuracy: 0.8650 - val_loss: 0.2742 - val_accuracy: 0.9178\n",
      "Epoch 55/100\n",
      "1022/1022 [==============================] - 0s 25us/step - loss: 0.3383 - accuracy: 0.8650 - val_loss: 0.2712 - val_accuracy: 0.9132\n",
      "Epoch 56/100\n",
      "1022/1022 [==============================] - 0s 22us/step - loss: 0.3361 - accuracy: 0.8640 - val_loss: 0.2688 - val_accuracy: 0.9132\n",
      "Epoch 57/100\n",
      "1022/1022 [==============================] - 0s 22us/step - loss: 0.3352 - accuracy: 0.8601 - val_loss: 0.2680 - val_accuracy: 0.9178\n",
      "Epoch 58/100\n",
      "1022/1022 [==============================] - 0s 25us/step - loss: 0.3340 - accuracy: 0.8669 - val_loss: 0.2646 - val_accuracy: 0.9178\n",
      "Epoch 59/100\n",
      "1022/1022 [==============================] - 0s 25us/step - loss: 0.3322 - accuracy: 0.8640 - val_loss: 0.2616 - val_accuracy: 0.9087\n",
      "Epoch 60/100\n",
      "1022/1022 [==============================] - 0s 23us/step - loss: 0.3309 - accuracy: 0.8630 - val_loss: 0.2607 - val_accuracy: 0.9178\n",
      "Epoch 61/100\n",
      "1022/1022 [==============================] - 0s 24us/step - loss: 0.3298 - accuracy: 0.8630 - val_loss: 0.2598 - val_accuracy: 0.9224\n",
      "Epoch 62/100\n",
      "1022/1022 [==============================] - 0s 24us/step - loss: 0.3279 - accuracy: 0.8669 - val_loss: 0.2563 - val_accuracy: 0.9087\n",
      "Epoch 63/100\n",
      "1022/1022 [==============================] - 0s 24us/step - loss: 0.3277 - accuracy: 0.8650 - val_loss: 0.2557 - val_accuracy: 0.9178\n",
      "Epoch 64/100\n",
      "1022/1022 [==============================] - 0s 23us/step - loss: 0.3261 - accuracy: 0.8659 - val_loss: 0.2539 - val_accuracy: 0.9178\n",
      "Epoch 65/100\n",
      "1022/1022 [==============================] - 0s 25us/step - loss: 0.3252 - accuracy: 0.8659 - val_loss: 0.2521 - val_accuracy: 0.9178\n",
      "Epoch 66/100\n",
      "1022/1022 [==============================] - 0s 25us/step - loss: 0.3236 - accuracy: 0.8650 - val_loss: 0.2528 - val_accuracy: 0.9224\n",
      "Epoch 67/100\n",
      "1022/1022 [==============================] - 0s 23us/step - loss: 0.3231 - accuracy: 0.8669 - val_loss: 0.2517 - val_accuracy: 0.9224\n",
      "Epoch 68/100\n",
      "1022/1022 [==============================] - 0s 23us/step - loss: 0.3219 - accuracy: 0.8669 - val_loss: 0.2484 - val_accuracy: 0.9224\n",
      "Epoch 69/100\n",
      "1022/1022 [==============================] - 0s 24us/step - loss: 0.3207 - accuracy: 0.8679 - val_loss: 0.2468 - val_accuracy: 0.9224\n",
      "Epoch 70/100\n",
      "1022/1022 [==============================] - 0s 23us/step - loss: 0.3196 - accuracy: 0.8669 - val_loss: 0.2451 - val_accuracy: 0.9224\n",
      "Epoch 71/100\n",
      "1022/1022 [==============================] - 0s 24us/step - loss: 0.3198 - accuracy: 0.8669 - val_loss: 0.2458 - val_accuracy: 0.9224\n",
      "Epoch 72/100\n",
      "1022/1022 [==============================] - 0s 26us/step - loss: 0.3175 - accuracy: 0.8689 - val_loss: 0.2426 - val_accuracy: 0.9224\n",
      "Epoch 73/100\n",
      "1022/1022 [==============================] - 0s 24us/step - loss: 0.3175 - accuracy: 0.8699 - val_loss: 0.2414 - val_accuracy: 0.9224\n",
      "Epoch 74/100\n",
      "1022/1022 [==============================] - 0s 24us/step - loss: 0.3166 - accuracy: 0.8679 - val_loss: 0.2424 - val_accuracy: 0.9224\n",
      "Epoch 75/100\n",
      "1022/1022 [==============================] - 0s 25us/step - loss: 0.3160 - accuracy: 0.8679 - val_loss: 0.2402 - val_accuracy: 0.9224\n",
      "Epoch 76/100\n",
      "1022/1022 [==============================] - 0s 21us/step - loss: 0.3154 - accuracy: 0.8689 - val_loss: 0.2388 - val_accuracy: 0.9224\n",
      "Epoch 77/100\n",
      "1022/1022 [==============================] - 0s 24us/step - loss: 0.3142 - accuracy: 0.8669 - val_loss: 0.2395 - val_accuracy: 0.9224\n",
      "Epoch 78/100\n",
      "1022/1022 [==============================] - 0s 22us/step - loss: 0.3133 - accuracy: 0.8679 - val_loss: 0.2387 - val_accuracy: 0.9178\n",
      "Epoch 79/100\n",
      "1022/1022 [==============================] - 0s 23us/step - loss: 0.3121 - accuracy: 0.8679 - val_loss: 0.2357 - val_accuracy: 0.9269\n",
      "Epoch 80/100\n",
      "1022/1022 [==============================] - 0s 25us/step - loss: 0.3121 - accuracy: 0.8650 - val_loss: 0.2358 - val_accuracy: 0.9224\n",
      "Epoch 81/100\n",
      "1022/1022 [==============================] - 0s 22us/step - loss: 0.3113 - accuracy: 0.8689 - val_loss: 0.2357 - val_accuracy: 0.9178\n",
      "Epoch 82/100\n",
      "1022/1022 [==============================] - 0s 26us/step - loss: 0.3098 - accuracy: 0.8708 - val_loss: 0.2323 - val_accuracy: 0.9269\n",
      "Epoch 83/100\n",
      "1022/1022 [==============================] - 0s 23us/step - loss: 0.3096 - accuracy: 0.8669 - val_loss: 0.2323 - val_accuracy: 0.9269\n",
      "Epoch 84/100\n",
      "1022/1022 [==============================] - 0s 23us/step - loss: 0.3094 - accuracy: 0.8679 - val_loss: 0.2328 - val_accuracy: 0.9224\n",
      "Epoch 85/100\n",
      "1022/1022 [==============================] - 0s 26us/step - loss: 0.3083 - accuracy: 0.8708 - val_loss: 0.2317 - val_accuracy: 0.9224\n",
      "Epoch 86/100\n",
      "1022/1022 [==============================] - 0s 24us/step - loss: 0.3079 - accuracy: 0.8728 - val_loss: 0.2309 - val_accuracy: 0.9224\n",
      "Epoch 87/100\n",
      "1022/1022 [==============================] - 0s 22us/step - loss: 0.3077 - accuracy: 0.8718 - val_loss: 0.2312 - val_accuracy: 0.9224\n",
      "Epoch 88/100\n",
      "1022/1022 [==============================] - 0s 26us/step - loss: 0.3065 - accuracy: 0.8738 - val_loss: 0.2304 - val_accuracy: 0.9224\n",
      "Epoch 89/100\n",
      "1022/1022 [==============================] - 0s 25us/step - loss: 0.3067 - accuracy: 0.8679 - val_loss: 0.2301 - val_accuracy: 0.9224\n",
      "Epoch 90/100\n",
      "1022/1022 [==============================] - 0s 24us/step - loss: 0.3055 - accuracy: 0.8728 - val_loss: 0.2292 - val_accuracy: 0.9224\n",
      "Epoch 91/100\n",
      "1022/1022 [==============================] - 0s 25us/step - loss: 0.3042 - accuracy: 0.8748 - val_loss: 0.2285 - val_accuracy: 0.9224\n",
      "Epoch 92/100\n",
      "1022/1022 [==============================] - 0s 24us/step - loss: 0.3039 - accuracy: 0.8728 - val_loss: 0.2263 - val_accuracy: 0.9224\n",
      "Epoch 93/100\n",
      "1022/1022 [==============================] - 0s 24us/step - loss: 0.3030 - accuracy: 0.8728 - val_loss: 0.2248 - val_accuracy: 0.9224\n",
      "Epoch 94/100\n",
      "1022/1022 [==============================] - 0s 26us/step - loss: 0.3026 - accuracy: 0.8718 - val_loss: 0.2260 - val_accuracy: 0.9224\n",
      "Epoch 95/100\n",
      "1022/1022 [==============================] - 0s 24us/step - loss: 0.3019 - accuracy: 0.8699 - val_loss: 0.2243 - val_accuracy: 0.9224\n",
      "Epoch 96/100\n",
      "1022/1022 [==============================] - 0s 24us/step - loss: 0.3015 - accuracy: 0.8708 - val_loss: 0.2234 - val_accuracy: 0.9224\n",
      "Epoch 97/100\n",
      "1022/1022 [==============================] - 0s 23us/step - loss: 0.3007 - accuracy: 0.8728 - val_loss: 0.2212 - val_accuracy: 0.9269\n",
      "Epoch 98/100\n",
      "1022/1022 [==============================] - ETA: 0s - loss: 0.4748 - accuracy: 0.75 - 0s 23us/step - loss: 0.3001 - accuracy: 0.8728 - val_loss: 0.2224 - val_accuracy: 0.9224\n",
      "Epoch 99/100\n",
      "1022/1022 [==============================] - 0s 25us/step - loss: 0.2998 - accuracy: 0.8718 - val_loss: 0.2234 - val_accuracy: 0.9224\n",
      "Epoch 100/100\n",
      "1022/1022 [==============================] - 0s 22us/step - loss: 0.2994 - accuracy: 0.8767 - val_loss: 0.2204 - val_accuracy: 0.9224\n"
     ]
    }
   ],
   "source": [
    "# train the data\n",
    "hist = model.fit(X_train, Y_train,\n",
    "          batch_size=32, epochs=100,\n",
    "          validation_data=(X_val, Y_val))"
   ]
  },
  {
   "cell_type": "code",
   "execution_count": 19,
   "id": "2c89a522",
   "metadata": {},
   "outputs": [
    {
     "name": "stdout",
     "output_type": "stream",
     "text": [
      "219/219 [==============================] - 0s 18us/step\n"
     ]
    },
    {
     "data": {
      "text/plain": [
       "0.9041095972061157"
      ]
     },
     "execution_count": 19,
     "metadata": {},
     "output_type": "execute_result"
    }
   ],
   "source": [
    "# find the accuracy of the test\n",
    "model.evaluate(X_test, Y_test)[1]"
   ]
  },
  {
   "cell_type": "markdown",
   "id": "7ec80181",
   "metadata": {},
   "source": [
    "<code>Summary: Coding up our first neural network required only a few lines of code:</code>\n",
    "* We specify the architecture with the Keras Sequential model.\n",
    "* We specify some of our settings (optimizer, loss function, metrics to track) with model.compile\n",
    "* We train our model (find the best parameters for our architecture) with the training data with model.fit\n",
    "* We evaluate our model on the test set with model.evaluate"
   ]
  },
  {
   "cell_type": "markdown",
   "id": "3cbc23ea",
   "metadata": {},
   "source": [
    "<hr>\n",
    "<h3>Visualizing Loss and Accuracy</h3>"
   ]
  },
  {
   "cell_type": "code",
   "execution_count": 20,
   "id": "52d348e3",
   "metadata": {},
   "outputs": [],
   "source": [
    "import matplotlib.pyplot as plt"
   ]
  },
  {
   "cell_type": "code",
   "execution_count": 22,
   "id": "c6342252",
   "metadata": {},
   "outputs": [
    {
     "data": {
      "image/png": "[encoded data removed]",
      "text/plain": [
       "<Figure size 432x288 with 1 Axes>"
      ]
     },
     "metadata": {
      "needs_background": "light"
     },
     "output_type": "display_data"
    }
   ],
   "source": [
    "# plot the training loss and the validation loss\n",
    "plt.plot(hist.history['loss'])\n",
    "plt.plot(hist.history['val_loss'])\n",
    "plt.title('Model loss')\n",
    "plt.ylabel('Loss')\n",
    "plt.xlabel('Epoch')\n",
    "plt.legend(['Train', 'Val'], loc='upper right')\n",
    "plt.show()"
   ]
  },
  {
   "cell_type": "code",
   "execution_count": 26,
   "id": "ff0ce66b",
   "metadata": {},
   "outputs": [
    {
     "data": {
      "image/png": "[encoded data removed]",
      "text/plain": [
       "<Figure size 432x288 with 1 Axes>"
      ]
     },
     "metadata": {
      "needs_background": "light"
     },
     "output_type": "display_data"
    }
   ],
   "source": [
    "# plot the training accuaracy and validation accuaracy\n",
    "plt.plot(hist.history['accuracy'])\n",
    "plt.plot(hist.history['val_accuracy'])\n",
    "plt.title('Model accuracy')\n",
    "plt.ylabel('Accuracy')\n",
    "plt.xlabel('Epoch')\n",
    "plt.legend(['Train', 'Val'], loc='lower right')\n",
    "plt.show()"
   ]
  },
  {
   "cell_type": "markdown",
   "id": "15656333",
   "metadata": {},
   "source": [
    "<hr>\n",
    "<h3>Adding Regularization to Neural Network</h3>"
   ]
  },
  {
   "cell_type": "code",
   "execution_count": 30,
   "id": "ac0dbff5",
   "metadata": {},
   "outputs": [
    {
     "name": "stdout",
     "output_type": "stream",
     "text": [
      "Train on 1022 samples, validate on 219 samples\n",
      "Epoch 1/100\n",
      "1022/1022 [==============================] - 1s 1ms/step - loss: 0.4752 - accuracy: 0.7661 - val_loss: 0.2956 - val_accuracy: 0.8950\n",
      "Epoch 2/100\n",
      "1022/1022 [==============================] - 1s 1ms/step - loss: 0.3515 - accuracy: 0.8425 - val_loss: 0.2391 - val_accuracy: 0.9224\n",
      "Epoch 3/100\n",
      "1022/1022 [==============================] - 1s 974us/step - loss: 0.3271 - accuracy: 0.8611 - val_loss: 0.2874 - val_accuracy: 0.9178\n",
      "Epoch 4/100\n",
      "1022/1022 [==============================] - 1s 986us/step - loss: 0.3167 - accuracy: 0.8708 - val_loss: 0.2264 - val_accuracy: 0.9178\n",
      "Epoch 5/100\n",
      "1022/1022 [==============================] - 1s 982us/step - loss: 0.2948 - accuracy: 0.8748 - val_loss: 0.2047 - val_accuracy: 0.9269\n",
      "Epoch 6/100\n",
      "1022/1022 [==============================] - 1s 1ms/step - loss: 0.3007 - accuracy: 0.8718 - val_loss: 0.2394 - val_accuracy: 0.9132\n",
      "Epoch 7/100\n",
      "1022/1022 [==============================] - 1s 1ms/step - loss: 0.2639 - accuracy: 0.8826 - val_loss: 0.1970 - val_accuracy: 0.9315\n",
      "Epoch 8/100\n",
      "1022/1022 [==============================] - 1s 1ms/step - loss: 0.2765 - accuracy: 0.8777 - val_loss: 0.1946 - val_accuracy: 0.9178\n",
      "Epoch 9/100\n",
      "1022/1022 [==============================] - 1s 1ms/step - loss: 0.2613 - accuracy: 0.8924 - val_loss: 0.2116 - val_accuracy: 0.9087\n",
      "Epoch 10/100\n",
      "1022/1022 [==============================] - 1s 996us/step - loss: 0.2470 - accuracy: 0.8963 - val_loss: 0.1715 - val_accuracy: 0.9543\n",
      "Epoch 11/100\n",
      "1022/1022 [==============================] - 1s 940us/step - loss: 0.2817 - accuracy: 0.8845 - val_loss: 0.1884 - val_accuracy: 0.9269\n",
      "Epoch 12/100\n",
      "1022/1022 [==============================] - 1s 944us/step - loss: 0.2397 - accuracy: 0.8973 - val_loss: 0.1851 - val_accuracy: 0.9361\n",
      "Epoch 13/100\n",
      "1022/1022 [==============================] - 1s 1ms/step - loss: 0.2439 - accuracy: 0.9012 - val_loss: 0.1792 - val_accuracy: 0.9224\n",
      "Epoch 14/100\n",
      "1022/1022 [==============================] - 1s 1ms/step - loss: 0.2349 - accuracy: 0.8963 - val_loss: 0.2028 - val_accuracy: 0.9224\n",
      "Epoch 15/100\n",
      "1022/1022 [==============================] - 1s 1ms/step - loss: 0.2584 - accuracy: 0.8992 - val_loss: 0.2006 - val_accuracy: 0.9224\n",
      "Epoch 16/100\n",
      "1022/1022 [==============================] - 1s 950us/step - loss: 0.2388 - accuracy: 0.8953 - val_loss: 0.1816 - val_accuracy: 0.9361\n",
      "Epoch 17/100\n",
      "1022/1022 [==============================] - 1s 978us/step - loss: 0.2421 - accuracy: 0.9022 - val_loss: 0.1965 - val_accuracy: 0.8995\n",
      "Epoch 18/100\n",
      "1022/1022 [==============================] - 1s 964us/step - loss: 0.2336 - accuracy: 0.9022 - val_loss: 0.1819 - val_accuracy: 0.9315\n",
      "Epoch 19/100\n",
      "1022/1022 [==============================] - 1s 1ms/step - loss: 0.2473 - accuracy: 0.8894 - val_loss: 0.2081 - val_accuracy: 0.9178\n",
      "Epoch 20/100\n",
      "1022/1022 [==============================] - 1s 1ms/step - loss: 0.2452 - accuracy: 0.8973 - val_loss: 0.1747 - val_accuracy: 0.9452\n",
      "Epoch 21/100\n",
      "1022/1022 [==============================] - 1s 963us/step - loss: 0.2159 - accuracy: 0.8963 - val_loss: 0.2019 - val_accuracy: 0.9224\n",
      "Epoch 22/100\n",
      "1022/1022 [==============================] - 1s 933us/step - loss: 0.2377 - accuracy: 0.9022 - val_loss: 0.1957 - val_accuracy: 0.9361\n",
      "Epoch 23/100\n",
      "1022/1022 [==============================] - 1s 1ms/step - loss: 0.2360 - accuracy: 0.8914 - val_loss: 0.2390 - val_accuracy: 0.9041\n",
      "Epoch 24/100\n",
      "1022/1022 [==============================] - 1s 979us/step - loss: 0.2703 - accuracy: 0.8855 - val_loss: 0.2060 - val_accuracy: 0.9132\n",
      "Epoch 25/100\n",
      "1022/1022 [==============================] - 1s 1ms/step - loss: 0.2219 - accuracy: 0.9119 - val_loss: 0.1994 - val_accuracy: 0.9178\n",
      "Epoch 26/100\n",
      "1022/1022 [==============================] - 1s 1ms/step - loss: 0.2098 - accuracy: 0.9022 - val_loss: 0.2035 - val_accuracy: 0.9132\n",
      "Epoch 27/100\n",
      "1022/1022 [==============================] - 1s 1ms/step - loss: 0.2149 - accuracy: 0.9022 - val_loss: 0.1705 - val_accuracy: 0.9406\n",
      "Epoch 28/100\n",
      "1022/1022 [==============================] - 1s 1ms/step - loss: 0.2144 - accuracy: 0.9090 - val_loss: 0.2122 - val_accuracy: 0.9224\n",
      "Epoch 29/100\n",
      "1022/1022 [==============================] - 1s 956us/step - loss: 0.2455 - accuracy: 0.8924 - val_loss: 0.1988 - val_accuracy: 0.9224\n",
      "Epoch 30/100\n",
      "1022/1022 [==============================] - 1s 958us/step - loss: 0.2052 - accuracy: 0.9090 - val_loss: 0.1962 - val_accuracy: 0.9224\n",
      "Epoch 31/100\n",
      "1022/1022 [==============================] - 1s 959us/step - loss: 0.2128 - accuracy: 0.9070 - val_loss: 0.1927 - val_accuracy: 0.9361\n",
      "Epoch 32/100\n",
      "1022/1022 [==============================] - 1s 996us/step - loss: 0.2083 - accuracy: 0.9080 - val_loss: 0.2201 - val_accuracy: 0.9269\n",
      "Epoch 33/100\n",
      "1022/1022 [==============================] - 1s 1ms/step - loss: 0.2162 - accuracy: 0.9080 - val_loss: 0.1756 - val_accuracy: 0.9452\n",
      "Epoch 34/100\n",
      "1022/1022 [==============================] - 1s 968us/step - loss: 0.2008 - accuracy: 0.9149 - val_loss: 0.2294 - val_accuracy: 0.8813\n",
      "Epoch 35/100\n",
      "1022/1022 [==============================] - 1s 993us/step - loss: 0.1889 - accuracy: 0.9129 - val_loss: 0.1991 - val_accuracy: 0.9178\n",
      "Epoch 36/100\n",
      "1022/1022 [==============================] - 1s 984us/step - loss: 0.2487 - accuracy: 0.9041 - val_loss: 0.2013 - val_accuracy: 0.9178\n",
      "Epoch 37/100\n",
      "1022/1022 [==============================] - 1s 975us/step - loss: 0.2288 - accuracy: 0.9070 - val_loss: 0.1801 - val_accuracy: 0.9178\n",
      "Epoch 38/100\n",
      "1022/1022 [==============================] - 1s 968us/step - loss: 0.2072 - accuracy: 0.9139 - val_loss: 0.2007 - val_accuracy: 0.9224\n",
      "Epoch 39/100\n",
      "1022/1022 [==============================] - 1s 988us/step - loss: 0.2222 - accuracy: 0.9051 - val_loss: 0.1766 - val_accuracy: 0.9224\n",
      "Epoch 40/100\n",
      "1022/1022 [==============================] - 1s 947us/step - loss: 0.1998 - accuracy: 0.9090 - val_loss: 0.1930 - val_accuracy: 0.9224\n",
      "Epoch 41/100\n",
      "1022/1022 [==============================] - 1s 982us/step - loss: 0.2219 - accuracy: 0.9110 - val_loss: 0.2708 - val_accuracy: 0.8995\n",
      "Epoch 42/100\n",
      "1022/1022 [==============================] - 1s 949us/step - loss: 0.2030 - accuracy: 0.9051 - val_loss: 0.2081 - val_accuracy: 0.9224\n",
      "Epoch 43/100\n",
      "1022/1022 [==============================] - 1s 937us/step - loss: 0.1815 - accuracy: 0.9188 - val_loss: 0.1928 - val_accuracy: 0.9315\n",
      "Epoch 44/100\n",
      "1022/1022 [==============================] - 1s 936us/step - loss: 0.1928 - accuracy: 0.9139 - val_loss: 0.1789 - val_accuracy: 0.9224\n",
      "Epoch 45/100\n",
      "1022/1022 [==============================] - 1s 969us/step - loss: 0.1973 - accuracy: 0.9080 - val_loss: 0.2079 - val_accuracy: 0.9132\n",
      "Epoch 46/100\n",
      "1022/1022 [==============================] - 1s 1ms/step - loss: 0.1791 - accuracy: 0.9168 - val_loss: 0.2230 - val_accuracy: 0.9087\n",
      "Epoch 47/100\n",
      "1022/1022 [==============================] - 1s 1ms/step - loss: 0.1890 - accuracy: 0.9198 - val_loss: 0.1843 - val_accuracy: 0.9269\n",
      "Epoch 48/100\n",
      "1022/1022 [==============================] - 1s 1ms/step - loss: 0.1927 - accuracy: 0.9100 - val_loss: 0.1644 - val_accuracy: 0.9361\n",
      "Epoch 49/100\n",
      "1022/1022 [==============================] - 1s 1ms/step - loss: 0.1888 - accuracy: 0.9178 - val_loss: 0.2238 - val_accuracy: 0.9178\n",
      "Epoch 50/100\n",
      "1022/1022 [==============================] - 1s 977us/step - loss: 0.2189 - accuracy: 0.8953 - val_loss: 0.2430 - val_accuracy: 0.8995\n",
      "Epoch 51/100\n",
      "1022/1022 [==============================] - 1s 1ms/step - loss: 0.2157 - accuracy: 0.9061 - val_loss: 0.1886 - val_accuracy: 0.9132\n",
      "Epoch 52/100\n",
      "1022/1022 [==============================] - 1s 975us/step - loss: 0.1824 - accuracy: 0.9168 - val_loss: 0.2274 - val_accuracy: 0.9041\n",
      "Epoch 53/100\n",
      "1022/1022 [==============================] - 1s 986us/step - loss: 0.1755 - accuracy: 0.9295 - val_loss: 0.2435 - val_accuracy: 0.9224\n",
      "Epoch 54/100\n",
      "1022/1022 [==============================] - 1s 982us/step - loss: 0.1768 - accuracy: 0.9207 - val_loss: 0.1709 - val_accuracy: 0.9269\n",
      "Epoch 55/100\n",
      "1022/1022 [==============================] - 1s 1ms/step - loss: 0.1801 - accuracy: 0.9129 - val_loss: 0.1757 - val_accuracy: 0.9269\n",
      "Epoch 56/100\n"
     ]
    },
    {
     "name": "stdout",
     "output_type": "stream",
     "text": [
      "1022/1022 [==============================] - 1s 1ms/step - loss: 0.1883 - accuracy: 0.9168 - val_loss: 0.2472 - val_accuracy: 0.9178\n",
      "Epoch 57/100\n",
      "1022/1022 [==============================] - 1s 1ms/step - loss: 0.1814 - accuracy: 0.9227 - val_loss: 0.2433 - val_accuracy: 0.9361\n",
      "Epoch 58/100\n",
      "1022/1022 [==============================] - 1s 945us/step - loss: 0.1817 - accuracy: 0.9198 - val_loss: 0.2173 - val_accuracy: 0.9269\n",
      "Epoch 59/100\n",
      "1022/1022 [==============================] - 1s 938us/step - loss: 0.1784 - accuracy: 0.9256 - val_loss: 0.2491 - val_accuracy: 0.9224\n",
      "Epoch 60/100\n",
      "1022/1022 [==============================] - 1s 941us/step - loss: 0.1827 - accuracy: 0.9247 - val_loss: 0.2061 - val_accuracy: 0.9132\n",
      "Epoch 61/100\n",
      "1022/1022 [==============================] - 1s 963us/step - loss: 0.1749 - accuracy: 0.9168 - val_loss: 0.2053 - val_accuracy: 0.9406\n",
      "Epoch 62/100\n",
      "1022/1022 [==============================] - 1s 945us/step - loss: 0.1712 - accuracy: 0.9207 - val_loss: 0.1981 - val_accuracy: 0.9132\n",
      "Epoch 63/100\n",
      "1022/1022 [==============================] - 1s 969us/step - loss: 0.1633 - accuracy: 0.9286 - val_loss: 0.1787 - val_accuracy: 0.9269\n",
      "Epoch 64/100\n",
      "1022/1022 [==============================] - 1s 995us/step - loss: 0.1865 - accuracy: 0.9159 - val_loss: 0.2234 - val_accuracy: 0.9269\n",
      "Epoch 65/100\n",
      "1022/1022 [==============================] - 1s 971us/step - loss: 0.1712 - accuracy: 0.9207 - val_loss: 0.1919 - val_accuracy: 0.9178\n",
      "Epoch 66/100\n",
      "1022/1022 [==============================] - 1s 979us/step - loss: 0.1552 - accuracy: 0.9286 - val_loss: 0.2402 - val_accuracy: 0.9132\n",
      "Epoch 67/100\n",
      "1022/1022 [==============================] - 1s 974us/step - loss: 0.1526 - accuracy: 0.9335 - val_loss: 0.1873 - val_accuracy: 0.9224\n",
      "Epoch 68/100\n",
      "1022/1022 [==============================] - 1s 1ms/step - loss: 0.1653 - accuracy: 0.9247 - val_loss: 0.2005 - val_accuracy: 0.9269\n",
      "Epoch 69/100\n",
      "1022/1022 [==============================] - 1s 1ms/step - loss: 0.1548 - accuracy: 0.9286 - val_loss: 0.2364 - val_accuracy: 0.8995\n",
      "Epoch 70/100\n",
      "1022/1022 [==============================] - 1s 1ms/step - loss: 0.1699 - accuracy: 0.9344 - val_loss: 0.2191 - val_accuracy: 0.9224\n",
      "Epoch 71/100\n",
      "1022/1022 [==============================] - 1s 1ms/step - loss: 0.1601 - accuracy: 0.9305 - val_loss: 0.1955 - val_accuracy: 0.9224\n",
      "Epoch 72/100\n",
      "1022/1022 [==============================] - 1s 1ms/step - loss: 0.1444 - accuracy: 0.9413 - val_loss: 0.1887 - val_accuracy: 0.9224\n",
      "Epoch 73/100\n",
      "1022/1022 [==============================] - 1s 1ms/step - loss: 0.1666 - accuracy: 0.9335 - val_loss: 0.2486 - val_accuracy: 0.9224\n",
      "Epoch 74/100\n",
      "1022/1022 [==============================] - 1s 963us/step - loss: 0.1442 - accuracy: 0.9403 - val_loss: 0.1945 - val_accuracy: 0.9224\n",
      "Epoch 75/100\n",
      "1022/1022 [==============================] - 1s 963us/step - loss: 0.1285 - accuracy: 0.9432 - val_loss: 0.2273 - val_accuracy: 0.9224\n",
      "Epoch 76/100\n",
      "1022/1022 [==============================] - 1s 962us/step - loss: 0.1519 - accuracy: 0.9305 - val_loss: 0.2416 - val_accuracy: 0.9178\n",
      "Epoch 77/100\n",
      "1022/1022 [==============================] - 1s 936us/step - loss: 0.1753 - accuracy: 0.9110 - val_loss: 0.1791 - val_accuracy: 0.9315\n",
      "Epoch 78/100\n",
      "1022/1022 [==============================] - 1s 976us/step - loss: 0.1763 - accuracy: 0.9256 - val_loss: 0.1716 - val_accuracy: 0.9361\n",
      "Epoch 79/100\n",
      "1022/1022 [==============================] - 1s 1ms/step - loss: 0.1762 - accuracy: 0.9237 - val_loss: 0.1853 - val_accuracy: 0.9361\n",
      "Epoch 80/100\n",
      "1022/1022 [==============================] - 1s 976us/step - loss: 0.1489 - accuracy: 0.9423 - val_loss: 0.1758 - val_accuracy: 0.9132\n",
      "Epoch 81/100\n",
      "1022/1022 [==============================] - 1s 974us/step - loss: 0.1396 - accuracy: 0.9364 - val_loss: 0.1849 - val_accuracy: 0.9315\n",
      "Epoch 82/100\n",
      "1022/1022 [==============================] - 1s 957us/step - loss: 0.1856 - accuracy: 0.9178 - val_loss: 0.2081 - val_accuracy: 0.9087\n",
      "Epoch 83/100\n",
      "1022/1022 [==============================] - 1s 976us/step - loss: 0.1435 - accuracy: 0.9393 - val_loss: 0.2018 - val_accuracy: 0.9361\n",
      "Epoch 84/100\n",
      "1022/1022 [==============================] - 1s 980us/step - loss: 0.1385 - accuracy: 0.9374 - val_loss: 0.1870 - val_accuracy: 0.9178\n",
      "Epoch 85/100\n",
      "1022/1022 [==============================] - 1s 966us/step - loss: 0.1191 - accuracy: 0.9491 - val_loss: 0.1966 - val_accuracy: 0.9132\n",
      "Epoch 86/100\n",
      "1022/1022 [==============================] - 1s 1ms/step - loss: 0.1546 - accuracy: 0.9295 - val_loss: 0.2436 - val_accuracy: 0.9178\n",
      "Epoch 87/100\n",
      "1022/1022 [==============================] - 1s 962us/step - loss: 0.1780 - accuracy: 0.9129 - val_loss: 0.1755 - val_accuracy: 0.9498\n",
      "Epoch 88/100\n",
      "1022/1022 [==============================] - 1s 969us/step - loss: 0.1573 - accuracy: 0.9315 - val_loss: 0.2035 - val_accuracy: 0.9178\n",
      "Epoch 89/100\n",
      "1022/1022 [==============================] - 1s 1ms/step - loss: 0.1503 - accuracy: 0.9374 - val_loss: 0.2356 - val_accuracy: 0.9087\n",
      "Epoch 90/100\n",
      "1022/1022 [==============================] - 1s 955us/step - loss: 0.1244 - accuracy: 0.9452 - val_loss: 0.1991 - val_accuracy: 0.9315\n",
      "Epoch 91/100\n",
      "1022/1022 [==============================] - 1s 969us/step - loss: 0.1296 - accuracy: 0.9442 - val_loss: 0.2298 - val_accuracy: 0.9224\n",
      "Epoch 92/100\n",
      "1022/1022 [==============================] - 1s 939us/step - loss: 0.1377 - accuracy: 0.9413 - val_loss: 0.2208 - val_accuracy: 0.9361\n",
      "Epoch 93/100\n",
      "1022/1022 [==============================] - 1s 936us/step - loss: 0.1644 - accuracy: 0.9276 - val_loss: 0.1993 - val_accuracy: 0.9315\n",
      "Epoch 94/100\n",
      "1022/1022 [==============================] - 1s 978us/step - loss: 0.1527 - accuracy: 0.9344 - val_loss: 0.1990 - val_accuracy: 0.9132\n",
      "Epoch 95/100\n",
      "1022/1022 [==============================] - 1s 943us/step - loss: 0.1410 - accuracy: 0.9393 - val_loss: 0.1928 - val_accuracy: 0.9269\n",
      "Epoch 96/100\n",
      "1022/1022 [==============================] - 1s 974us/step - loss: 0.1318 - accuracy: 0.9403 - val_loss: 0.1952 - val_accuracy: 0.9361\n",
      "Epoch 97/100\n",
      "1022/1022 [==============================] - 1s 963us/step - loss: 0.1294 - accuracy: 0.9432 - val_loss: 0.2356 - val_accuracy: 0.8995\n",
      "Epoch 98/100\n",
      "1022/1022 [==============================] - 1s 960us/step - loss: 0.1119 - accuracy: 0.9511 - val_loss: 0.2247 - val_accuracy: 0.9224\n",
      "Epoch 99/100\n",
      "1022/1022 [==============================] - 1s 976us/step - loss: 0.1371 - accuracy: 0.9423 - val_loss: 0.2422 - val_accuracy: 0.9224\n",
      "Epoch 100/100\n",
      "1022/1022 [==============================] - 1s 973us/step - loss: 0.1568 - accuracy: 0.9364 - val_loss: 0.2177 - val_accuracy: 0.9224\n"
     ]
    }
   ],
   "source": [
    "# neural network that badly fits over training set\n",
    "model_2 = Sequential([\n",
    "    Dense(1000, activation='relu', input_shape=(10,)),\n",
    "    Dense(1000, activation='relu'),\n",
    "    Dense(1000, activation='relu'),\n",
    "    Dense(1000, activation='relu'),\n",
    "    Dense(1, activation='sigmoid'),])\n",
    "model_2.compile(optimizer='adam',\n",
    "              loss='binary_crossentropy',\n",
    "              metrics=['accuracy'])\n",
    "hist_2 = model_2.fit(X_train, Y_train,\n",
    "          batch_size=32, epochs=100,\n",
    "          validation_data=(X_val, Y_val))"
   ]
  },
  {
   "cell_type": "code",
   "execution_count": 31,
   "id": "3e007500",
   "metadata": {},
   "outputs": [
    {
     "data": {
      "image/png": "[encoded data removed]",
      "text/plain": [
       "<Figure size 432x288 with 1 Axes>"
      ]
     },
     "metadata": {
      "needs_background": "light"
     },
     "output_type": "display_data"
    }
   ],
   "source": [
    "# plot the training loss and the validation loss\n",
    "plt.plot(hist_2.history['loss'])\n",
    "plt.plot(hist_2.history['val_loss'])\n",
    "plt.title('Model loss')\n",
    "plt.ylabel('Loss')\n",
    "plt.xlabel('Epoch')\n",
    "plt.legend(['Train', 'Val'], loc='upper right')\n",
    "plt.show()"
   ]
  },
  {
   "cell_type": "code",
   "execution_count": 32,
   "id": "4614e0d2",
   "metadata": {},
   "outputs": [
    {
     "data": {
      "image/png": "[encoded data removed]",
      "text/plain": [
       "<Figure size 432x288 with 1 Axes>"
      ]
     },
     "metadata": {
      "needs_background": "light"
     },
     "output_type": "display_data"
    }
   ],
   "source": [
    "# plot the training accuaracy and validation accuaracy\n",
    "plt.plot(hist_2.history['accuracy'])\n",
    "plt.plot(hist_2.history['val_accuracy'])\n",
    "plt.title('Model accuracy')\n",
    "plt.ylabel('Accuracy')\n",
    "plt.xlabel('Epoch')\n",
    "plt.legend(['Train', 'Val'], loc='lower right')\n",
    "plt.show()"
   ]
  },
  {
   "cell_type": "code",
   "execution_count": 33,
   "id": "78c3ebfe",
   "metadata": {},
   "outputs": [],
   "source": [
    "# try strategies to reduce over-fitting\n",
    "from keras.layers import Dropout\n",
    "from keras import regularizers"
   ]
  },
  {
   "cell_type": "code",
   "execution_count": 34,
   "id": "f679091d",
   "metadata": {},
   "outputs": [],
   "source": [
    "# specify a third model\n",
    "model_3 = Sequential([\n",
    "    Dense(1000, activation='relu', kernel_regularizer=regularizers.l2(0.01), input_shape=(10,)),\n",
    "    Dropout(0.3),\n",
    "    Dense(1000, activation='relu', kernel_regularizer=regularizers.l2(0.01)),\n",
    "    Dropout(0.3),\n",
    "    Dense(1000, activation='relu', kernel_regularizer=regularizers.l2(0.01)),\n",
    "    Dropout(0.3),\n",
    "    Dense(1000, activation='relu', kernel_regularizer=regularizers.l2(0.01)),\n",
    "    Dropout(0.3),\n",
    "    Dense(1, activation='sigmoid', kernel_regularizer=regularizers.l2(0.01)),\n",
    "])"
   ]
  },
  {
   "cell_type": "code",
   "execution_count": 36,
   "id": "e3c4dc30",
   "metadata": {},
   "outputs": [
    {
     "name": "stdout",
     "output_type": "stream",
     "text": [
      "Train on 1022 samples, validate on 219 samples\n",
      "Epoch 1/100\n",
      "1022/1022 [==============================] - 2s 2ms/step - loss: 14.2412 - accuracy: 0.6419 - val_loss: 3.8596 - val_accuracy: 0.8584\n",
      "Epoch 2/100\n",
      "1022/1022 [==============================] - 1s 1ms/step - loss: 1.6985 - accuracy: 0.8131 - val_loss: 0.6364 - val_accuracy: 0.8995\n",
      "Epoch 3/100\n",
      "1022/1022 [==============================] - 1s 1ms/step - loss: 0.5898 - accuracy: 0.8415 - val_loss: 0.4483 - val_accuracy: 0.9178\n",
      "Epoch 4/100\n",
      "1022/1022 [==============================] - 1s 1ms/step - loss: 0.5407 - accuracy: 0.8464 - val_loss: 0.4429 - val_accuracy: 0.9087\n",
      "Epoch 5/100\n",
      "1022/1022 [==============================] - 1s 1ms/step - loss: 0.4964 - accuracy: 0.8669 - val_loss: 0.3999 - val_accuracy: 0.9224\n",
      "Epoch 6/100\n",
      "1022/1022 [==============================] - 1s 1ms/step - loss: 0.4964 - accuracy: 0.8669 - val_loss: 0.4002 - val_accuracy: 0.9315\n",
      "Epoch 7/100\n",
      "1022/1022 [==============================] - 1s 1ms/step - loss: 0.4870 - accuracy: 0.8630 - val_loss: 0.4146 - val_accuracy: 0.8995\n",
      "Epoch 8/100\n",
      "1022/1022 [==============================] - 1s 1ms/step - loss: 0.5127 - accuracy: 0.8620 - val_loss: 0.4052 - val_accuracy: 0.9178\n",
      "Epoch 9/100\n",
      "1022/1022 [==============================] - 1s 1ms/step - loss: 0.4918 - accuracy: 0.8601 - val_loss: 0.4093 - val_accuracy: 0.8995\n",
      "Epoch 10/100\n",
      "1022/1022 [==============================] - 1s 1ms/step - loss: 0.4802 - accuracy: 0.8708 - val_loss: 0.4390 - val_accuracy: 0.8858\n",
      "Epoch 11/100\n",
      "1022/1022 [==============================] - 1s 1ms/step - loss: 0.5080 - accuracy: 0.8523 - val_loss: 0.4088 - val_accuracy: 0.9315\n",
      "Epoch 12/100\n",
      "1022/1022 [==============================] - 1s 1ms/step - loss: 0.4793 - accuracy: 0.8562 - val_loss: 0.4013 - val_accuracy: 0.9087\n",
      "Epoch 13/100\n",
      "1022/1022 [==============================] - 1s 1ms/step - loss: 0.5277 - accuracy: 0.8366 - val_loss: 0.4533 - val_accuracy: 0.8767\n",
      "Epoch 14/100\n",
      "1022/1022 [==============================] - 1s 1ms/step - loss: 0.4996 - accuracy: 0.8552 - val_loss: 0.3840 - val_accuracy: 0.9132\n",
      "Epoch 15/100\n",
      "1022/1022 [==============================] - 1s 1ms/step - loss: 0.4700 - accuracy: 0.8738 - val_loss: 0.3889 - val_accuracy: 0.9041\n",
      "Epoch 16/100\n",
      "1022/1022 [==============================] - 1s 1ms/step - loss: 0.4631 - accuracy: 0.8728 - val_loss: 0.3763 - val_accuracy: 0.9224\n",
      "Epoch 17/100\n",
      "1022/1022 [==============================] - 1s 1ms/step - loss: 0.4699 - accuracy: 0.8689 - val_loss: 0.3800 - val_accuracy: 0.9178\n",
      "Epoch 18/100\n",
      "1022/1022 [==============================] - 1s 1ms/step - loss: 0.4602 - accuracy: 0.8855 - val_loss: 0.3918 - val_accuracy: 0.9132\n",
      "Epoch 19/100\n",
      "1022/1022 [==============================] - 1s 1ms/step - loss: 0.4702 - accuracy: 0.8620 - val_loss: 0.4497 - val_accuracy: 0.8813\n",
      "Epoch 20/100\n",
      "1022/1022 [==============================] - 1s 1ms/step - loss: 0.4828 - accuracy: 0.8669 - val_loss: 0.3798 - val_accuracy: 0.9178\n",
      "Epoch 21/100\n",
      "1022/1022 [==============================] - 1s 1ms/step - loss: 0.4734 - accuracy: 0.8611 - val_loss: 0.3817 - val_accuracy: 0.9224\n",
      "Epoch 22/100\n",
      "1022/1022 [==============================] - 1s 1ms/step - loss: 0.4541 - accuracy: 0.8738 - val_loss: 0.3664 - val_accuracy: 0.9224\n",
      "Epoch 23/100\n",
      "1022/1022 [==============================] - 1s 1ms/step - loss: 0.5073 - accuracy: 0.8464 - val_loss: 0.4108 - val_accuracy: 0.8995\n",
      "Epoch 24/100\n",
      "1022/1022 [==============================] - 1s 1ms/step - loss: 0.5176 - accuracy: 0.8464 - val_loss: 0.3891 - val_accuracy: 0.9224\n",
      "Epoch 25/100\n",
      "1022/1022 [==============================] - 1s 1ms/step - loss: 0.4572 - accuracy: 0.8699 - val_loss: 0.4312 - val_accuracy: 0.8813\n",
      "Epoch 26/100\n",
      "1022/1022 [==============================] - 1s 1ms/step - loss: 0.4611 - accuracy: 0.8728 - val_loss: 0.3782 - val_accuracy: 0.9087\n",
      "Epoch 27/100\n",
      "1022/1022 [==============================] - 1s 1ms/step - loss: 0.4681 - accuracy: 0.8659 - val_loss: 0.3654 - val_accuracy: 0.9224\n",
      "Epoch 28/100\n",
      "1022/1022 [==============================] - 1s 1ms/step - loss: 0.4698 - accuracy: 0.8630 - val_loss: 0.3751 - val_accuracy: 0.9178\n",
      "Epoch 29/100\n",
      "1022/1022 [==============================] - 1s 1ms/step - loss: 0.4578 - accuracy: 0.8708 - val_loss: 0.3743 - val_accuracy: 0.9087\n",
      "Epoch 30/100\n",
      "1022/1022 [==============================] - 1s 1ms/step - loss: 0.4529 - accuracy: 0.8767 - val_loss: 0.3590 - val_accuracy: 0.9224\n",
      "Epoch 31/100\n",
      "1022/1022 [==============================] - 1s 1ms/step - loss: 0.4541 - accuracy: 0.8689 - val_loss: 0.4471 - val_accuracy: 0.8813\n",
      "Epoch 32/100\n",
      "1022/1022 [==============================] - 1s 1ms/step - loss: 0.4906 - accuracy: 0.8601 - val_loss: 0.3708 - val_accuracy: 0.9315\n",
      "Epoch 33/100\n",
      "1022/1022 [==============================] - 1s 1ms/step - loss: 0.4528 - accuracy: 0.8708 - val_loss: 0.3706 - val_accuracy: 0.9132\n",
      "Epoch 34/100\n",
      "1022/1022 [==============================] - 1s 1ms/step - loss: 0.4595 - accuracy: 0.8767 - val_loss: 0.3736 - val_accuracy: 0.9132\n",
      "Epoch 35/100\n",
      "1022/1022 [==============================] - 1s 1ms/step - loss: 0.4596 - accuracy: 0.8777 - val_loss: 0.3657 - val_accuracy: 0.9224\n",
      "Epoch 36/100\n",
      "1022/1022 [==============================] - 1s 1ms/step - loss: 0.4606 - accuracy: 0.8757 - val_loss: 0.3735 - val_accuracy: 0.9269\n",
      "Epoch 37/100\n",
      "1022/1022 [==============================] - 1s 1ms/step - loss: 0.4491 - accuracy: 0.8718 - val_loss: 0.3634 - val_accuracy: 0.9315\n",
      "Epoch 38/100\n",
      "1022/1022 [==============================] - 1s 1ms/step - loss: 0.4526 - accuracy: 0.8689 - val_loss: 0.3609 - val_accuracy: 0.9315\n",
      "Epoch 39/100\n",
      "1022/1022 [==============================] - 1s 1ms/step - loss: 0.4924 - accuracy: 0.8513 - val_loss: 0.4472 - val_accuracy: 0.8813\n",
      "Epoch 40/100\n",
      "1022/1022 [==============================] - 1s 1ms/step - loss: 0.4836 - accuracy: 0.8659 - val_loss: 0.3715 - val_accuracy: 0.9178\n",
      "Epoch 41/100\n",
      "1022/1022 [==============================] - 1s 1ms/step - loss: 0.4505 - accuracy: 0.8767 - val_loss: 0.3830 - val_accuracy: 0.9041\n",
      "Epoch 42/100\n",
      "1022/1022 [==============================] - 1s 1ms/step - loss: 0.4520 - accuracy: 0.8679 - val_loss: 0.3729 - val_accuracy: 0.9087\n",
      "Epoch 43/100\n",
      "1022/1022 [==============================] - 1s 1ms/step - loss: 0.4464 - accuracy: 0.8816 - val_loss: 0.3826 - val_accuracy: 0.9041\n",
      "Epoch 44/100\n",
      "1022/1022 [==============================] - 1s 1ms/step - loss: 0.4496 - accuracy: 0.8689 - val_loss: 0.3557 - val_accuracy: 0.9269\n",
      "Epoch 45/100\n",
      "1022/1022 [==============================] - 1s 1ms/step - loss: 0.4463 - accuracy: 0.8777 - val_loss: 0.3635 - val_accuracy: 0.9178\n",
      "Epoch 46/100\n",
      "1022/1022 [==============================] - 1s 1ms/step - loss: 0.4632 - accuracy: 0.8601 - val_loss: 0.3585 - val_accuracy: 0.9269\n",
      "Epoch 47/100\n",
      "1022/1022 [==============================] - 1s 1ms/step - loss: 0.4549 - accuracy: 0.8728 - val_loss: 0.3686 - val_accuracy: 0.9041\n",
      "Epoch 48/100\n",
      "1022/1022 [==============================] - 1s 1ms/step - loss: 0.4611 - accuracy: 0.8699 - val_loss: 0.3598 - val_accuracy: 0.9178\n",
      "Epoch 49/100\n",
      "1022/1022 [==============================] - 1s 1ms/step - loss: 0.4581 - accuracy: 0.8650 - val_loss: 0.3605 - val_accuracy: 0.9224\n",
      "Epoch 50/100\n",
      "1022/1022 [==============================] - 1s 1ms/step - loss: 0.4653 - accuracy: 0.8708 - val_loss: 0.3643 - val_accuracy: 0.9315\n",
      "Epoch 51/100\n",
      "1022/1022 [==============================] - 1s 1ms/step - loss: 0.4528 - accuracy: 0.8796 - val_loss: 0.3634 - val_accuracy: 0.9224\n",
      "Epoch 52/100\n",
      "1022/1022 [==============================] - 1s 1ms/step - loss: 0.4619 - accuracy: 0.8718 - val_loss: 0.3603 - val_accuracy: 0.9315\n",
      "Epoch 53/100\n",
      "1022/1022 [==============================] - 1s 1ms/step - loss: 0.4520 - accuracy: 0.8796 - val_loss: 0.3622 - val_accuracy: 0.9269\n",
      "Epoch 54/100\n",
      "1022/1022 [==============================] - 1s 1ms/step - loss: 0.4528 - accuracy: 0.8748 - val_loss: 0.3635 - val_accuracy: 0.9315\n",
      "Epoch 55/100\n",
      "1022/1022 [==============================] - 1s 1ms/step - loss: 0.4462 - accuracy: 0.8728 - val_loss: 0.3817 - val_accuracy: 0.9087\n",
      "Epoch 56/100\n"
     ]
    },
    {
     "name": "stdout",
     "output_type": "stream",
     "text": [
      "1022/1022 [==============================] - 1s 1ms/step - loss: 0.4498 - accuracy: 0.8748 - val_loss: 0.3712 - val_accuracy: 0.9178\n",
      "Epoch 57/100\n",
      "1022/1022 [==============================] - 1s 1ms/step - loss: 0.4531 - accuracy: 0.8738 - val_loss: 0.3638 - val_accuracy: 0.9178\n",
      "Epoch 58/100\n",
      "1022/1022 [==============================] - 1s 1ms/step - loss: 0.4549 - accuracy: 0.8757 - val_loss: 0.3567 - val_accuracy: 0.9269\n",
      "Epoch 59/100\n",
      "1022/1022 [==============================] - 1s 1ms/step - loss: 0.4608 - accuracy: 0.8777 - val_loss: 0.3676 - val_accuracy: 0.9269\n",
      "Epoch 60/100\n",
      "1022/1022 [==============================] - 1s 1ms/step - loss: 0.4531 - accuracy: 0.8689 - val_loss: 0.3647 - val_accuracy: 0.9269\n",
      "Epoch 61/100\n",
      "1022/1022 [==============================] - 1s 1ms/step - loss: 0.4552 - accuracy: 0.8659 - val_loss: 0.3577 - val_accuracy: 0.9224\n",
      "Epoch 62/100\n",
      "1022/1022 [==============================] - 1s 1ms/step - loss: 0.4471 - accuracy: 0.8728 - val_loss: 0.3745 - val_accuracy: 0.9178\n",
      "Epoch 63/100\n",
      "1022/1022 [==============================] - 1s 1ms/step - loss: 0.4723 - accuracy: 0.8591 - val_loss: 0.3787 - val_accuracy: 0.9041\n",
      "Epoch 64/100\n",
      "1022/1022 [==============================] - 1s 1ms/step - loss: 0.4574 - accuracy: 0.8689 - val_loss: 0.4110 - val_accuracy: 0.9087\n",
      "Epoch 65/100\n",
      "1022/1022 [==============================] - 2s 1ms/step - loss: 0.4636 - accuracy: 0.8738 - val_loss: 0.3675 - val_accuracy: 0.9132\n",
      "Epoch 66/100\n",
      "1022/1022 [==============================] - 2s 2ms/step - loss: 0.4495 - accuracy: 0.8748 - val_loss: 0.3592 - val_accuracy: 0.9224\n",
      "Epoch 67/100\n",
      "1022/1022 [==============================] - 2s 2ms/step - loss: 0.4545 - accuracy: 0.8708 - val_loss: 0.3600 - val_accuracy: 0.9224\n",
      "Epoch 68/100\n",
      "1022/1022 [==============================] - 2s 2ms/step - loss: 0.4474 - accuracy: 0.8679 - val_loss: 0.3644 - val_accuracy: 0.9178\n",
      "Epoch 69/100\n",
      "1022/1022 [==============================] - 1s 1ms/step - loss: 0.4767 - accuracy: 0.8699 - val_loss: 0.3796 - val_accuracy: 0.9132\n",
      "Epoch 70/100\n",
      "1022/1022 [==============================] - 1s 1ms/step - loss: 0.4644 - accuracy: 0.8532 - val_loss: 0.3657 - val_accuracy: 0.9132\n",
      "Epoch 71/100\n",
      "1022/1022 [==============================] - 1s 1ms/step - loss: 0.4664 - accuracy: 0.8542 - val_loss: 0.3894 - val_accuracy: 0.8995\n",
      "Epoch 72/100\n",
      "1022/1022 [==============================] - 2s 2ms/step - loss: 0.4457 - accuracy: 0.8816 - val_loss: 0.3633 - val_accuracy: 0.9269\n",
      "Epoch 73/100\n",
      "1022/1022 [==============================] - 2s 2ms/step - loss: 0.4691 - accuracy: 0.8562 - val_loss: 0.3713 - val_accuracy: 0.9178\n",
      "Epoch 74/100\n",
      "1022/1022 [==============================] - 2s 2ms/step - loss: 0.4522 - accuracy: 0.8699 - val_loss: 0.3578 - val_accuracy: 0.9269\n",
      "Epoch 75/100\n",
      "1022/1022 [==============================] - 1s 1ms/step - loss: 0.4520 - accuracy: 0.8708 - val_loss: 0.3791 - val_accuracy: 0.9087\n",
      "Epoch 76/100\n",
      "1022/1022 [==============================] - 1s 1ms/step - loss: 0.4528 - accuracy: 0.8816 - val_loss: 0.3853 - val_accuracy: 0.9132\n",
      "Epoch 77/100\n",
      "1022/1022 [==============================] - 1s 1ms/step - loss: 0.4482 - accuracy: 0.8826 - val_loss: 0.3663 - val_accuracy: 0.9269\n",
      "Epoch 78/100\n",
      "1022/1022 [==============================] - 1s 1ms/step - loss: 0.4595 - accuracy: 0.8689 - val_loss: 0.4040 - val_accuracy: 0.8950\n",
      "Epoch 79/100\n",
      "1022/1022 [==============================] - 1s 1ms/step - loss: 0.4645 - accuracy: 0.8669 - val_loss: 0.3783 - val_accuracy: 0.9041\n",
      "Epoch 80/100\n",
      "1022/1022 [==============================] - 1s 1ms/step - loss: 0.4462 - accuracy: 0.8787 - val_loss: 0.3586 - val_accuracy: 0.9315\n",
      "Epoch 81/100\n",
      "1022/1022 [==============================] - 1s 1ms/step - loss: 0.4683 - accuracy: 0.8611 - val_loss: 0.3874 - val_accuracy: 0.9132\n",
      "Epoch 82/100\n",
      "1022/1022 [==============================] - 1s 1ms/step - loss: 0.4481 - accuracy: 0.8767 - val_loss: 0.3595 - val_accuracy: 0.9178\n",
      "Epoch 83/100\n",
      "1022/1022 [==============================] - 1s 1ms/step - loss: 0.4381 - accuracy: 0.8728 - val_loss: 0.3790 - val_accuracy: 0.9132\n",
      "Epoch 84/100\n",
      "1022/1022 [==============================] - 1s 1ms/step - loss: 0.4523 - accuracy: 0.8699 - val_loss: 0.3582 - val_accuracy: 0.9224\n",
      "Epoch 85/100\n",
      "1022/1022 [==============================] - 1s 1ms/step - loss: 0.4634 - accuracy: 0.8581 - val_loss: 0.3581 - val_accuracy: 0.9269\n",
      "Epoch 86/100\n",
      "1022/1022 [==============================] - 1s 1ms/step - loss: 0.4624 - accuracy: 0.8659 - val_loss: 0.3905 - val_accuracy: 0.9041\n",
      "Epoch 87/100\n",
      "1022/1022 [==============================] - 1s 1ms/step - loss: 0.4555 - accuracy: 0.8708 - val_loss: 0.3587 - val_accuracy: 0.9269\n",
      "Epoch 88/100\n",
      "1022/1022 [==============================] - 1s 1ms/step - loss: 0.4443 - accuracy: 0.8728 - val_loss: 0.3984 - val_accuracy: 0.8995\n",
      "Epoch 89/100\n",
      "1022/1022 [==============================] - 1s 1ms/step - loss: 0.4382 - accuracy: 0.8836 - val_loss: 0.3663 - val_accuracy: 0.9087\n",
      "Epoch 90/100\n",
      "1022/1022 [==============================] - 1s 1ms/step - loss: 0.4412 - accuracy: 0.8738 - val_loss: 0.3706 - val_accuracy: 0.9087\n",
      "Epoch 91/100\n",
      "1022/1022 [==============================] - 1s 1ms/step - loss: 0.4506 - accuracy: 0.8816 - val_loss: 0.3578 - val_accuracy: 0.9269\n",
      "Epoch 92/100\n",
      "1022/1022 [==============================] - 1s 1ms/step - loss: 0.4685 - accuracy: 0.8689 - val_loss: 0.4398 - val_accuracy: 0.8676\n",
      "Epoch 93/100\n",
      "1022/1022 [==============================] - 1s 1ms/step - loss: 0.4456 - accuracy: 0.8777 - val_loss: 0.3705 - val_accuracy: 0.9087\n",
      "Epoch 94/100\n",
      "1022/1022 [==============================] - 1s 1ms/step - loss: 0.4446 - accuracy: 0.8787 - val_loss: 0.3654 - val_accuracy: 0.9087\n",
      "Epoch 95/100\n",
      "1022/1022 [==============================] - 1s 1ms/step - loss: 0.4478 - accuracy: 0.8718 - val_loss: 0.3802 - val_accuracy: 0.9132\n",
      "Epoch 96/100\n",
      "1022/1022 [==============================] - 1s 1ms/step - loss: 0.4541 - accuracy: 0.8767 - val_loss: 0.3639 - val_accuracy: 0.9087\n",
      "Epoch 97/100\n",
      "1022/1022 [==============================] - 1s 1ms/step - loss: 0.4805 - accuracy: 0.8474 - val_loss: 0.3883 - val_accuracy: 0.9087\n",
      "Epoch 98/100\n",
      "1022/1022 [==============================] - 1s 1ms/step - loss: 0.4505 - accuracy: 0.8816 - val_loss: 0.3863 - val_accuracy: 0.9087\n",
      "Epoch 99/100\n",
      "1022/1022 [==============================] - 1s 1ms/step - loss: 0.4672 - accuracy: 0.8669 - val_loss: 0.3552 - val_accuracy: 0.9224\n",
      "Epoch 100/100\n",
      "1022/1022 [==============================] - 1s 1ms/step - loss: 0.4525 - accuracy: 0.8796 - val_loss: 0.3605 - val_accuracy: 0.9178\n"
     ]
    }
   ],
   "source": [
    "# compile the new model\n",
    "model_3.compile(optimizer='adam',\n",
    "              loss='binary_crossentropy',\n",
    "              metrics=['accuracy'])\n",
    "hist_3 = model_3.fit(X_train, Y_train,\n",
    "          batch_size=32, epochs=100,\n",
    "          validation_data=(X_val, Y_val))"
   ]
  },
  {
   "cell_type": "code",
   "execution_count": 37,
   "id": "16038a14",
   "metadata": {},
   "outputs": [
    {
     "data": {
      "image/png": "[encoded data removed]",
      "text/plain": [
       "<Figure size 432x288 with 1 Axes>"
      ]
     },
     "metadata": {
      "needs_background": "light"
     },
     "output_type": "display_data"
    }
   ],
   "source": [
    "# plot the training loss and the validation loss\n",
    "plt.plot(hist_3.history['loss'])\n",
    "plt.plot(hist_3.history['val_loss'])\n",
    "plt.title('Model loss')\n",
    "plt.ylabel('Loss')\n",
    "plt.xlabel('Epoch')\n",
    "plt.legend(['Train', 'Val'], loc='upper right')\n",
    "plt.ylim(top=1.2, bottom=0)\n",
    "plt.show()"
   ]
  },
  {
   "cell_type": "code",
   "execution_count": 39,
   "id": "c39f3c68",
   "metadata": {},
   "outputs": [
    {
     "data": {
      "image/png": "[encoded data removed]",
      "text/plain": [
       "<Figure size 432x288 with 1 Axes>"
      ]
     },
     "metadata": {
      "needs_background": "light"
     },
     "output_type": "display_data"
    }
   ],
   "source": [
    "# plot the training accuaracy and validation accuaracy\n",
    "plt.plot(hist_3.history['accuracy'])\n",
    "plt.plot(hist_3.history['val_accuracy'])\n",
    "plt.title('Model accuracy')\n",
    "plt.ylabel('Accuracy')\n",
    "plt.xlabel('Epoch')\n",
    "plt.legend(['Train', 'Val'], loc='lower right')\n",
    "plt.show()"
   ]
  },
  {
   "cell_type": "markdown",
   "id": "ea06446f",
   "metadata": {},
   "source": [
    "<code>Summary: To deal with overfitting, we can code in the following strategies into our model each with about one line of code:</code>\n",
    "* L2 Regularization\n",
    "* Dropout"
   ]
  },
  {
   "cell_type": "markdown",
   "id": "8f5c84a6",
   "metadata": {},
   "source": [
    "<code>Consolidated Summary: In this post, we’ve written Python code to:</code>\n",
    "* Explore and Process the Data\n",
    "* Build and Train our Neural Network\n",
    "* Visualize Loss and Accuracy\n",
    "* Add Regularization to our Neural Network"
   ]
  },
  {
   "cell_type": "markdown",
   "id": "aed39147",
   "metadata": {},
   "source": [
    "<hr><hr>\n",
    "<h2>Build your First Convolutional Neural Network to Recognize Files</h2>\n",
    "\n",
    "from: <code>https://medium.com/intuitive-deep-learning/build-your-first-convolutional-neural-network-to-recognize-images-84b9c78fe0ce</code>\n",
    "\n",
    "sections and images in this program taken from this article "
   ]
  },
  {
   "cell_type": "markdown",
   "id": "e824d407",
   "metadata": {},
   "source": [
    "<h3>Exploring and Processing the Data</h3>\n",
    "\n",
    "<code>In this section, we’ll do the following:</code>\n",
    "\n",
    "* Download the dataset and visualize the images\n",
    "* Change the label to one-hot encodings\n",
    "* Scale the image pixel values to take between 0 and 1"
   ]
  },
  {
   "cell_type": "code",
   "execution_count": 40,
   "id": "f8e07df9",
   "metadata": {},
   "outputs": [
    {
     "name": "stdout",
     "output_type": "stream",
     "text": [
      "Downloading data from https://www.cs.toronto.edu/~kriz/cifar-10-python.tar.gz\n",
      "170500096/170498071 [==============================] - 75s 0us/step\n"
     ]
    }
   ],
   "source": [
    "# use the CIFAR-10 dataset\n",
    "from keras.datasets import cifar10\n",
    "(x_train, y_train), (x_test, y_test) = cifar10.load_data()"
   ]
  },
  {
   "cell_type": "code",
   "execution_count": 41,
   "id": "40dfbb5b",
   "metadata": {},
   "outputs": [
    {
     "name": "stdout",
     "output_type": "stream",
     "text": [
      "x_train shape: (50000, 32, 32, 3)\n"
     ]
    }
   ],
   "source": [
    "# view the shape of the imput features array\n",
    "print('x_train shape:', x_train.shape)"
   ]
  },
  {
   "cell_type": "markdown",
   "id": "059fc785",
   "metadata": {},
   "source": [
    "<code>The shape of the array tells us that our dataset x_train consists of:</code>\n",
    "* 50000 images\n",
    "* 32 pixels in height\n",
    "* 32 pixels in width\n",
    "* 3 pixels in depth (corresponding to Red, Green and Blue)"
   ]
  },
  {
   "cell_type": "code",
   "execution_count": 43,
   "id": "43dadc01",
   "metadata": {},
   "outputs": [
    {
     "name": "stdout",
     "output_type": "stream",
     "text": [
      "y_train shape: (50000, 1)\n"
     ]
    }
   ],
   "source": [
    "# shape of the label array\n",
    "# 1 label for each of the 50000 images\n",
    "print('y_train shape:', y_train.shape)"
   ]
  },
  {
   "cell_type": "code",
   "execution_count": 44,
   "id": "efc1d4b9",
   "metadata": {},
   "outputs": [
    {
     "name": "stdout",
     "output_type": "stream",
     "text": [
      "[[[ 59  62  63]\n",
      "  [ 43  46  45]\n",
      "  [ 50  48  43]\n",
      "  ...\n",
      "  [158 132 108]\n",
      "  [152 125 102]\n",
      "  [148 124 103]]\n",
      "\n",
      " [[ 16  20  20]\n",
      "  [  0   0   0]\n",
      "  [ 18   8   0]\n",
      "  ...\n",
      "  [123  88  55]\n",
      "  [119  83  50]\n",
      "  [122  87  57]]\n",
      "\n",
      " [[ 25  24  21]\n",
      "  [ 16   7   0]\n",
      "  [ 49  27   8]\n",
      "  ...\n",
      "  [118  84  50]\n",
      "  [120  84  50]\n",
      "  [109  73  42]]\n",
      "\n",
      " ...\n",
      "\n",
      " [[208 170  96]\n",
      "  [201 153  34]\n",
      "  [198 161  26]\n",
      "  ...\n",
      "  [160 133  70]\n",
      "  [ 56  31   7]\n",
      "  [ 53  34  20]]\n",
      "\n",
      " [[180 139  96]\n",
      "  [173 123  42]\n",
      "  [186 144  30]\n",
      "  ...\n",
      "  [184 148  94]\n",
      "  [ 97  62  34]\n",
      "  [ 83  53  34]]\n",
      "\n",
      " [[177 144 116]\n",
      "  [168 129  94]\n",
      "  [179 142  87]\n",
      "  ...\n",
      "  [216 184 140]\n",
      "  [151 118  84]\n",
      "  [123  92  72]]]\n"
     ]
    }
   ],
   "source": [
    "# print example of an image\n",
    "print(x_train[0])"
   ]
  },
  {
   "cell_type": "code",
   "execution_count": 55,
   "id": "5b0b1f56",
   "metadata": {},
   "outputs": [
    {
     "data": {
      "image/png": "[encoded data removed]",
      "text/plain": [
       "<Figure size 432x288 with 1 Axes>"
      ]
     },
     "metadata": {
      "needs_background": "light"
     },
     "output_type": "display_data"
    }
   ],
   "source": [
    "# visualize image using matplotlib\n",
    "import matplotlib.pyplot as plt\n",
    "%matplotlib inline\n",
    "plt.imshow(x_train[0]);\n"
   ]
  },
  {
   "cell_type": "code",
   "execution_count": 56,
   "id": "ab54ccaa",
   "metadata": {},
   "outputs": [
    {
     "name": "stdout",
     "output_type": "stream",
     "text": [
      "The label is: [6]\n"
     ]
    }
   ],
   "source": [
    "# print label of image\n",
    "print('The label is:', y_train[0])"
   ]
  },
  {
   "attachments": {
    "1%20E7N3oVdqc-QUwd9_T0i9SQ.png": {
     "image/png": "[encoded data removed]"
    }
   },
   "cell_type": "markdown",
   "id": "8c31ffbe",
   "metadata": {},
   "source": [
    "![1%20E7N3oVdqc-QUwd9_T0i9SQ.png](attachment:1%20E7N3oVdqc-QUwd9_T0i9SQ.png)"
   ]
  },
  {
   "cell_type": "code",
   "execution_count": 58,
   "id": "c6d2d61f",
   "metadata": {},
   "outputs": [
    {
     "data": {
      "image/png": "[encoded data removed]",
      "text/plain": [
       "<Figure size 432x288 with 1 Axes>"
      ]
     },
     "metadata": {
      "needs_background": "light"
     },
     "output_type": "display_data"
    }
   ],
   "source": [
    "# another image\n",
    "img = plt.imshow(x_train[1])"
   ]
  },
  {
   "cell_type": "code",
   "execution_count": 59,
   "id": "8702df67",
   "metadata": {},
   "outputs": [
    {
     "name": "stdout",
     "output_type": "stream",
     "text": [
      "The label is: [9]\n"
     ]
    }
   ],
   "source": [
    "# print label of image\n",
    "print('The label is:', y_train[1])"
   ]
  },
  {
   "attachments": {
    "1%20t-ttNgcua-JtTlLjdRScww.png": {
     "image/png": "[encoded data removed]"
    }
   },
   "cell_type": "markdown",
   "id": "3175739e",
   "metadata": {},
   "source": [
    "<code>convert the label into a set of 10 numbers where each number represents if the image belongs to that class or not. So if an image belongs to the first class, the first number of this set will be a 1 and all other numbers in this set will be a 0. This is called a one-hot encoding, and the conversion table now looks like this:</code>\n",
    "![1%20t-ttNgcua-JtTlLjdRScww.png](attachment:1%20t-ttNgcua-JtTlLjdRScww.png)"
   ]
  },
  {
   "cell_type": "code",
   "execution_count": 61,
   "id": "359027f3",
   "metadata": {},
   "outputs": [],
   "source": [
    "# the conversion in code\n",
    "import keras\n",
    "y_train_one_hot = keras.utils.to_categorical(y_train, 10)\n",
    "y_test_one_hot = keras.utils.to_categorical(y_test, 10)"
   ]
  },
  {
   "cell_type": "code",
   "execution_count": 63,
   "id": "0514bd28",
   "metadata": {},
   "outputs": [
    {
     "name": "stdout",
     "output_type": "stream",
     "text": [
      "The one hot label is: [0. 0. 0. 0. 0. 0. 0. 0. 0. 1.]\n"
     ]
    }
   ],
   "source": [
    "# label for second image\n",
    "print('The one hot label is:', y_train_one_hot[1])"
   ]
  },
  {
   "cell_type": "markdown",
   "id": "8ef4bc11",
   "metadata": {},
   "source": [
    "<code>Now that we’ve processed our labels (y), we might also want to process our image (x). A common step we do is to let the values to be between 0 and 1, which will aid in the training of our neural network. Since our pixel values already take the values between 0 and 255, we simply need to divide by 255.</code>"
   ]
  },
  {
   "cell_type": "code",
   "execution_count": 64,
   "id": "236e556a",
   "metadata": {},
   "outputs": [],
   "source": [
    "x_train = x_train.astype('float32')\n",
    "x_test = x_test.astype('float32')\n",
    "x_train = x_train / 255\n",
    "x_test = x_test / 255"
   ]
  },
  {
   "cell_type": "code",
   "execution_count": 65,
   "id": "4b660bb4",
   "metadata": {},
   "outputs": [
    {
     "data": {
      "text/plain": [
       "array([[[0.23137255, 0.24313726, 0.24705882],\n",
       "        [0.16862746, 0.18039216, 0.1764706 ],\n",
       "        [0.19607843, 0.1882353 , 0.16862746],\n",
       "        ...,\n",
       "        [0.61960787, 0.5176471 , 0.42352942],\n",
       "        [0.59607846, 0.49019608, 0.4       ],\n",
       "        [0.5803922 , 0.4862745 , 0.40392157]],\n",
       "\n",
       "       [[0.0627451 , 0.07843138, 0.07843138],\n",
       "        [0.        , 0.        , 0.        ],\n",
       "        [0.07058824, 0.03137255, 0.        ],\n",
       "        ...,\n",
       "        [0.48235294, 0.34509805, 0.21568628],\n",
       "        [0.46666667, 0.3254902 , 0.19607843],\n",
       "        [0.47843137, 0.34117648, 0.22352941]],\n",
       "\n",
       "       [[0.09803922, 0.09411765, 0.08235294],\n",
       "        [0.0627451 , 0.02745098, 0.        ],\n",
       "        [0.19215687, 0.10588235, 0.03137255],\n",
       "        ...,\n",
       "        [0.4627451 , 0.32941177, 0.19607843],\n",
       "        [0.47058824, 0.32941177, 0.19607843],\n",
       "        [0.42745098, 0.28627452, 0.16470589]],\n",
       "\n",
       "       ...,\n",
       "\n",
       "       [[0.8156863 , 0.6666667 , 0.3764706 ],\n",
       "        [0.7882353 , 0.6       , 0.13333334],\n",
       "        [0.7764706 , 0.6313726 , 0.10196079],\n",
       "        ...,\n",
       "        [0.627451  , 0.52156866, 0.27450982],\n",
       "        [0.21960784, 0.12156863, 0.02745098],\n",
       "        [0.20784314, 0.13333334, 0.07843138]],\n",
       "\n",
       "       [[0.7058824 , 0.54509807, 0.3764706 ],\n",
       "        [0.6784314 , 0.48235294, 0.16470589],\n",
       "        [0.7294118 , 0.5647059 , 0.11764706],\n",
       "        ...,\n",
       "        [0.72156864, 0.5803922 , 0.36862746],\n",
       "        [0.38039216, 0.24313726, 0.13333334],\n",
       "        [0.3254902 , 0.20784314, 0.13333334]],\n",
       "\n",
       "       [[0.69411767, 0.5647059 , 0.45490196],\n",
       "        [0.65882355, 0.5058824 , 0.36862746],\n",
       "        [0.7019608 , 0.5568628 , 0.34117648],\n",
       "        ...,\n",
       "        [0.84705883, 0.72156864, 0.54901963],\n",
       "        [0.5921569 , 0.4627451 , 0.32941177],\n",
       "        [0.48235294, 0.36078432, 0.28235295]]], dtype=float32)"
      ]
     },
     "execution_count": 65,
     "metadata": {},
     "output_type": "execute_result"
    }
   ],
   "source": [
    "# print array values of first image\n",
    "x_train[0]"
   ]
  },
  {
   "cell_type": "markdown",
   "id": "0bd65ea2",
   "metadata": {},
   "source": [
    "<code>Summary: In exploring and processing the data, we’ve:</code>\n",
    "* Downloaded the dataset and visualize the images\n",
    "* Changed the label to one-hot encodings\n",
    "*  Scale the image pixel values to take between 0 and 1"
   ]
  },
  {
   "cell_type": "markdown",
   "id": "070105f8",
   "metadata": {},
   "source": [
    "<hr>\n",
    "<h3> Building and Training our Convolutional Neural Network</h3>"
   ]
  },
  {
   "attachments": {
    "1%20b4neYlVytzv5lfGmHAcqTQ.png": {
     "image/png": "[encoded data removed]"
    }
   },
   "cell_type": "markdown",
   "id": "bb1c7c10",
   "metadata": {},
   "source": [
    "setting up the CNN architecture\n",
    "![1%20b4neYlVytzv5lfGmHAcqTQ.png](attachment:1%20b4neYlVytzv5lfGmHAcqTQ.png)"
   ]
  },
  {
   "cell_type": "code",
   "execution_count": 66,
   "id": "1a40e11d",
   "metadata": {},
   "outputs": [],
   "source": [
    "# use the Keras sequential model\n",
    "from keras.models import Sequential\n",
    "from keras.layers import Dense, Dropout, Flatten, Conv2D, MaxPooling2D"
   ]
  },
  {
   "cell_type": "code",
   "execution_count": 67,
   "id": "0ea164a6",
   "metadata": {},
   "outputs": [],
   "source": [
    "# call an empty sequential\n",
    "model = Sequential()"
   ]
  },
  {
   "cell_type": "code",
   "execution_count": 68,
   "id": "14ad14b1",
   "metadata": {},
   "outputs": [],
   "source": [
    "# add empty layer one at a time\n",
    "model.add(Conv2D(32, (3, 3), activation='relu', padding='same', input_shape=(32,32,3)))"
   ]
  },
  {
   "cell_type": "code",
   "execution_count": 69,
   "id": "db41fd0a",
   "metadata": {},
   "outputs": [],
   "source": [
    "# second layer \n",
    "model.add(Conv2D(32, (3, 3), activation='relu', padding='same'))"
   ]
  },
  {
   "cell_type": "code",
   "execution_count": 70,
   "id": "5c61ae75",
   "metadata": {},
   "outputs": [
    {
     "name": "stdout",
     "output_type": "stream",
     "text": [
      "WARNING:tensorflow:From C:\\Users\\dave\\Anaconda3\\lib\\site-packages\\keras\\backend\\tensorflow_backend.py:4070: The name tf.nn.max_pool is deprecated. Please use tf.nn.max_pool2d instead.\n",
      "\n"
     ]
    }
   ],
   "source": [
    "# The next layer is a max pooling layer with pool size 2 x 2 and stride 2\n",
    "model.add(MaxPooling2D(pool_size=(2, 2)))"
   ]
  },
  {
   "cell_type": "code",
   "execution_count": 71,
   "id": "e0a2a042",
   "metadata": {},
   "outputs": [],
   "source": [
    "# add dropout layer\n",
    "model.add(Dropout(0.25))"
   ]
  },
  {
   "cell_type": "code",
   "execution_count": 72,
   "id": "5fbe0306",
   "metadata": {},
   "outputs": [],
   "source": [
    "# next four layers are the same  except the depth conv layer is 64 instead of 32 \n",
    "model.add(Conv2D(64, (3, 3), activation='relu', padding='same'))\n",
    "model.add(Conv2D(64, (3, 3), activation='relu', padding='same'))\n",
    "model.add(MaxPooling2D(pool_size=(2, 2)))\n",
    "model.add(Dropout(0.25))"
   ]
  },
  {
   "cell_type": "code",
   "execution_count": 73,
   "id": "09a9f3c6",
   "metadata": {},
   "outputs": [],
   "source": [
    "# fully connected layer\n",
    "model.add(Flatten())"
   ]
  },
  {
   "cell_type": "code",
   "execution_count": 74,
   "id": "d0d09db1",
   "metadata": {},
   "outputs": [],
   "source": [
    "# a dense (FC) layer of 512 neurons with relu activation:\n",
    "model.add(Dense(512, activation='relu'))"
   ]
  },
  {
   "cell_type": "code",
   "execution_count": 75,
   "id": "64c32603",
   "metadata": {},
   "outputs": [],
   "source": [
    "# another dropout probability\n",
    "model.add(Dropout(0.5))"
   ]
  },
  {
   "cell_type": "code",
   "execution_count": 76,
   "id": "2b38a131",
   "metadata": {},
   "outputs": [],
   "source": [
    "# a dense (FC) layer with 10 neurons and softmax activation:\n",
    "model.add(Dense(10, activation='softmax'))"
   ]
  },
  {
   "cell_type": "code",
   "execution_count": 77,
   "id": "3cd6fbe5",
   "metadata": {},
   "outputs": [
    {
     "name": "stdout",
     "output_type": "stream",
     "text": [
      "Model: \"sequential_4\"\n",
      "_________________________________________________________________\n",
      "Layer (type)                 Output Shape              Param #   \n",
      "=================================================================\n",
      "conv2d_1 (Conv2D)            (None, 32, 32, 32)        896       \n",
      "_________________________________________________________________\n",
      "conv2d_2 (Conv2D)            (None, 32, 32, 32)        9248      \n",
      "_________________________________________________________________\n",
      "max_pooling2d_1 (MaxPooling2 (None, 16, 16, 32)        0         \n",
      "_________________________________________________________________\n",
      "dropout_5 (Dropout)          (None, 16, 16, 32)        0         \n",
      "_________________________________________________________________\n",
      "conv2d_3 (Conv2D)            (None, 16, 16, 64)        18496     \n",
      "_________________________________________________________________\n",
      "conv2d_4 (Conv2D)            (None, 16, 16, 64)        36928     \n",
      "_________________________________________________________________\n",
      "max_pooling2d_2 (MaxPooling2 (None, 8, 8, 64)          0         \n",
      "_________________________________________________________________\n",
      "dropout_6 (Dropout)          (None, 8, 8, 64)          0         \n",
      "_________________________________________________________________\n",
      "flatten_1 (Flatten)          (None, 4096)              0         \n",
      "_________________________________________________________________\n",
      "dense_14 (Dense)             (None, 512)               2097664   \n",
      "_________________________________________________________________\n",
      "dropout_7 (Dropout)          (None, 512)               0         \n",
      "_________________________________________________________________\n",
      "dense_15 (Dense)             (None, 10)                5130      \n",
      "=================================================================\n",
      "Total params: 2,168,362\n",
      "Trainable params: 2,168,362\n",
      "Non-trainable params: 0\n",
      "_________________________________________________________________\n"
     ]
    }
   ],
   "source": [
    "# view the summary\n",
    "model.summary()"
   ]
  },
  {
   "cell_type": "markdown",
   "id": "d0e15049",
   "metadata": {},
   "source": [
    "<h3>Second Step: Filling in the best numbers</h3>"
   ]
  },
  {
   "cell_type": "code",
   "execution_count": 78,
   "id": "963a3aac",
   "metadata": {},
   "outputs": [],
   "source": [
    "# compile the model\n",
    "model.compile(loss='categorical_crossentropy',\n",
    "              optimizer='adam',\n",
    "              metrics=['accuracy'])"
   ]
  },
  {
   "cell_type": "code",
   "execution_count": null,
   "id": "de036847",
   "metadata": {},
   "outputs": [
    {
     "name": "stdout",
     "output_type": "stream",
     "text": [
      "Train on 40000 samples, validate on 10000 samples\n",
      "Epoch 1/20\n",
      "40000/40000 [==============================] - 107s 3ms/step - loss: 1.5268 - accuracy: 0.4400 - val_loss: 1.1887 - val_accuracy: 0.5721\n",
      "Epoch 2/20\n",
      "40000/40000 [==============================] - 105s 3ms/step - loss: 1.1567 - accuracy: 0.5863 - val_loss: 0.9965 - val_accuracy: 0.6369\n",
      "Epoch 3/20\n",
      "40000/40000 [==============================] - 104s 3ms/step - loss: 0.9861 - accuracy: 0.6538 - val_loss: 0.8567 - val_accuracy: 0.7024\n",
      "Epoch 4/20\n",
      "40000/40000 [==============================] - 112s 3ms/step - loss: 0.8765 - accuracy: 0.6905 - val_loss: 0.8173 - val_accuracy: 0.7137\n",
      "Epoch 5/20\n",
      "40000/40000 [==============================] - 112s 3ms/step - loss: 0.7999 - accuracy: 0.7171 - val_loss: 0.7990 - val_accuracy: 0.7205\n",
      "Epoch 6/20\n",
      "40000/40000 [==============================] - 113s 3ms/step - loss: 0.7408 - accuracy: 0.7395 - val_loss: 0.7241 - val_accuracy: 0.7493\n",
      "Epoch 7/20\n",
      "40000/40000 [==============================] - 117s 3ms/step - loss: 0.6876 - accuracy: 0.7596 - val_loss: 0.7143 - val_accuracy: 0.7533\n",
      "Epoch 8/20\n",
      "40000/40000 [==============================] - 111s 3ms/step - loss: 0.6382 - accuracy: 0.7742 - val_loss: 0.7119 - val_accuracy: 0.7508\n",
      "Epoch 9/20\n",
      "40000/40000 [==============================] - 112s 3ms/step - loss: 0.5934 - accuracy: 0.7903 - val_loss: 0.7019 - val_accuracy: 0.7642\n",
      "Epoch 10/20\n",
      "40000/40000 [==============================] - 116s 3ms/step - loss: 0.5637 - accuracy: 0.8017 - val_loss: 0.6726 - val_accuracy: 0.7720\n",
      "Epoch 11/20\n",
      "40000/40000 [==============================] - 117s 3ms/step - loss: 0.5428 - accuracy: 0.8086 - val_loss: 0.6931 - val_accuracy: 0.7681\n",
      "Epoch 12/20\n",
      "40000/40000 [==============================] - 105s 3ms/step - loss: 0.5125 - accuracy: 0.8187 - val_loss: 0.6954 - val_accuracy: 0.7699\n",
      "Epoch 13/20\n",
      "40000/40000 [==============================] - 104s 3ms/step - loss: 0.4931 - accuracy: 0.8255 - val_loss: 0.6918 - val_accuracy: 0.7716\n",
      "Epoch 14/20\n",
      "40000/40000 [==============================] - 102s 3ms/step - loss: 0.4662 - accuracy: 0.8346 - val_loss: 0.7018 - val_accuracy: 0.7740\n",
      "Epoch 15/20\n",
      "40000/40000 [==============================] - 103s 3ms/step - loss: 0.4585 - accuracy: 0.8382 - val_loss: 0.6995 - val_accuracy: 0.7737\n",
      "Epoch 16/20\n",
      "40000/40000 [==============================] - 102s 3ms/step - loss: 0.4369 - accuracy: 0.8439 - val_loss: 0.6959 - val_accuracy: 0.7763\n",
      "Epoch 17/20\n",
      "40000/40000 [==============================] - 101s 3ms/step - loss: 0.4253 - accuracy: 0.8497 - val_loss: 0.7238 - val_accuracy: 0.7765\n",
      "Epoch 18/20\n",
      "40000/40000 [==============================] - 105s 3ms/step - loss: 0.4102 - accuracy: 0.8556 - val_loss: 0.7129 - val_accuracy: 0.7781\n",
      "Epoch 19/20\n",
      "34336/40000 [========================>.....] - ETA: 14s - loss: 0.3906 - accuracy: 0.8612"
     ]
    }
   ],
   "source": [
    "# run the training\n",
    "hist = model.fit(x_train, y_train_one_hot, \n",
    "           batch_size=32, epochs=20, \n",
    "           validation_split=0.2)"
   ]
  },
  {
   "cell_type": "code",
   "execution_count": null,
   "id": "d6a46dac",
   "metadata": {},
   "outputs": [],
   "source": [
    "# visualize the model training and validation loss over the number of epochs using this code\n",
    "plt.plot(hist.history['loss'])\n",
    "plt.plot(hist.history['val_loss'])\n",
    "plt.title('Model loss')\n",
    "plt.ylabel('Loss')\n",
    "plt.xlabel('Epoch')\n",
    "plt.legend(['Train', 'Val'], loc='upper right')\n",
    "plt.show()"
   ]
  },
  {
   "cell_type": "code",
   "execution_count": null,
   "id": "aad5c3e1",
   "metadata": {},
   "outputs": [],
   "source": [
    "# visualize the accuracy\n",
    "plt.plot(hist.history['acc'])\n",
    "plt.plot(hist.history['val_acc'])\n",
    "plt.title('Model accuracy')\n",
    "plt.ylabel('Accuracy')\n",
    "plt.xlabel('Epoch')\n",
    "plt.legend(['Train', 'Val'], loc='lower right')\n",
    "plt.show()"
   ]
  },
  {
   "cell_type": "code",
   "execution_count": null,
   "id": "46075d08",
   "metadata": {},
   "outputs": [],
   "source": [
    "# evaluate the accuracy\n",
    "model.evaluate(x_test, y_test_one_hot)[1]"
   ]
  },
  {
   "cell_type": "markdown",
   "id": "081f5ca2",
   "metadata": {},
   "source": [
    "<The shape of the array tells us that our dataset x_train consists of:\n",
    "\n",
    "    50000 images\n",
    "    32 pixels in height\n",
    "    32 pixels in width\n",
    "    3 pixels in depth (corresponding to Red, Green and Blue)"
   ]
  }
 ],
 "metadata": {
  "kernelspec": {
   "display_name": "Python 3 (ipykernel)",
   "language": "python",
   "name": "python3"
  },
  "language_info": {
   "codemirror_mode": {
    "name": "ipython",
    "version": 3
   },
   "file_extension": ".py",
   "mimetype": "text/x-python",
   "name": "python",
   "nbconvert_exporter": "python",
   "pygments_lexer": "ipython3",
   "version": "3.7.11"
  }
 },
 "nbformat": 4,
 "nbformat_minor": 5
}
